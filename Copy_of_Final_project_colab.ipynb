{
  "cells": [
    {
      "cell_type": "markdown",
      "metadata": {
        "id": "dEgVopz-0jBB"
      },
      "source": [
        "* ## **Import tools and primary data**"
      ]
    },
    {
      "cell_type": "code",
      "execution_count": 353,
      "metadata": {
        "colab": {
          "base_uri": "https://localhost:8080/"
        },
        "id": "AiWs7YZ_0jBF",
        "outputId": "289fb256-ddef-44cc-aacb-3bf83bb66e0e"
      },
      "outputs": [
        {
          "name": "stdout",
          "output_type": "stream",
          "text": [
            "Done\n"
          ]
        }
      ],
      "source": [
        "import pandas as pd\n",
        "from pprint import pprint\n",
        "df1 = pd.read_csv(\"usagers.csv\")\n",
        "df2 = pd.read_csv(\"vehicules.csv\")\n",
        "df3 = pd.read_csv(\"caract.csv\")\n",
        "df4 = pd.read_csv(\"lieux.csv\")\n",
        "print('Done')"
      ]
    },
    {
      "cell_type": "markdown",
      "metadata": {
        "id": "9WvwlQTD0jBH"
      },
      "source": [
        "* ## **Merge original data**"
      ]
    },
    {
      "cell_type": "code",
      "execution_count": 354,
      "metadata": {
        "id": "VXnqNqbVYn7H"
      },
      "outputs": [],
      "source": [
        "data1 = df1.merge(df2,on=['Num_Acc','num_veh', 'id_vehicule'])\n",
        "data2 = df3.merge(df4,on = 'Num_Acc')\n",
        "data = data1.merge(data2,on='Num_Acc')"
      ]
    },
    {
      "cell_type": "markdown",
      "metadata": {
        "id": "JWrALgl20jBI"
      },
      "source": [
        "* ## **Missing values handling**"
      ]
    },
    {
      "cell_type": "code",
      "execution_count": 355,
      "metadata": {
        "id": "9xrHlvVXVLYv"
      },
      "outputs": [],
      "source": [
        "def cleansing(data_to_clean):\n",
        "  print(\"=====================================================================\")\n",
        "  print(\"Dimension of the data : {}\".format(data_to_clean.shape))\n",
        "  print(\"=====================================================================\")\n",
        "  print(repr(\"Columns with more than 10% of missing values  :\"))\n",
        "  # count nan values\n",
        "  nan_values = data_to_clean.isna().sum()\n",
        "  # percentage of nan values ay column\n",
        "  nan_values = nan_values.sort_values(ascending=False) *100 / data_to_clean.shape[0]\n",
        "  # columns with nan values greater than 10%\n",
        "  nan_values = nan_values.loc[nan_values > 10]\n",
        "  print(nan_values)\n",
        "  # Drop nan_values criteria columns\n",
        "  data = data_to_clean.drop(nan_values.to_dict().keys(), axis=1)\n",
        "  # Drop other column not concerned or not making sens in the process\n",
        "  data = data.drop(['lat','secu1', 'secu2', 'secu3'], axis=1)\n",
        "  print(\"=====================================================================\")\n",
        "  \n",
        "  print(\"Processing the hrmn variable...\")\n",
        "  data.hrmn = data.hrmn.str.split(':').str[0]\n",
        "  print(\"=====================================================================\")\n",
        "  \n",
        "  print('Dimension of the data after dropping the variables with NaN more than 10% : {}'.format(data.shape))\n",
        "  print(\"=====================================================================\")\n",
        "  \n",
        "  print(\"Variables conversion in Category type...\")\n",
        "  cat = ['lum', 'agg', 'int', 'atm', 'col',\n",
        "        'catr', 'circ', 'vosp', 'prof', \n",
        "       'plan', 'surf', 'infra', 'situ', 'senc',\n",
        "       'catv', 'obs', 'obsm', 'choc', 'manv', \n",
        "       'catu', 'sexe', 'trajet', 'actp']\n",
        "\n",
        "  data[cat] = data[cat].astype('category')\n",
        "  \n",
        "  drop = ['an_nais', 'motor', 'jour', 'mois', 'dep', \n",
        "        'com', 'adr', 'voie', 'nbv', 'pr', 'pr1',\n",
        "        'Num_Acc', 'id_vehicule', 'num_veh']\n",
        "\n",
        "  data = data.drop(drop, axis=1)\n",
        "  \n",
        "  print(\"=====================================================================\")\n",
        "  print(\"Variation of the variables...\")\n",
        "  print(data.var().sort_values().head())\n",
        "  \n",
        "  print(\"=====================================================================\")\n",
        "  data = data.drop('an', axis=1)\n",
        "  print(\"Dimension of the data after dropping 'an' variable (No valuable informations) : {}\".format(data.shape))\n",
        "  \n",
        "  print(\"=====================================================================\")\n",
        "  data = data.dropna(axis=0, how='any')\n",
        "  print(\"Dimension of the data after dropping all rows with NaN: {}\".format(data.shape))\n",
        "  \n",
        "  print(\"=====================================================================\")\n",
        "\n",
        "  print(\"**************************Cleansing done*****************************\")\n",
        "  print(\"=====================================================================\")\n",
        "  return data\n"
      ]
    },
    {
      "cell_type": "code",
      "execution_count": 356,
      "metadata": {},
      "outputs": [
        {
          "name": "stdout",
          "output_type": "stream",
          "text": [
            "=====================================================================\n",
            "Dimension of the data : (132977, 54)\n",
            "=====================================================================\n",
            "'Columns with more than 10% of missing values  :'\n",
            "long       100.000000\n",
            "lartpc      99.648811\n",
            "larrout     99.375080\n",
            "occutc      98.587726\n",
            "v2          92.673921\n",
            "v1          18.567121\n",
            "dtype: float64\n",
            "=====================================================================\n",
            "Processing the hrmn variable...\n",
            "=====================================================================\n",
            "Dimension of the data after dropping the variables with NaN more than 10% : (132977, 44)\n",
            "=====================================================================\n",
            "Variables conversion in Category type...\n",
            "=====================================================================\n",
            "Variation of the variables...\n",
            "an       0.000000\n",
            "etatp    0.420301\n",
            "locp     1.556945\n",
            "grav     1.881877\n",
            "place    7.266928\n",
            "dtype: float64\n",
            "=====================================================================\n",
            "Dimension of the data after dropping 'an' variable (No valuable informations) : (132977, 29)\n",
            "=====================================================================\n",
            "Dimension of the data after dropping all rows with NaN: (132883, 29)\n",
            "=====================================================================\n",
            "**************************Cleansing done*****************************\n",
            "=====================================================================\n"
          ]
        }
      ],
      "source": [
        "data = cleansing(data)"
      ]
    },
    {
      "cell_type": "markdown",
      "metadata": {
        "id": "gpMv9e920jBS"
      },
      "source": [
        "### - Sampling problem handling (Improper balance of the data)"
      ]
    },
    {
      "cell_type": "code",
      "execution_count": 290,
      "metadata": {},
      "outputs": [],
      "source": [
        "def merge_classes(clean_data, classes = 4):\n",
        "    \"\"\"Merge classes of the 'grav' variable to simplify the problem.\n",
        "\n",
        "    Args:\n",
        "        clean_data (dataframe): datarame of data already cleaned by the function cleansing()\n",
        "        classes (int, optional): numbers of classes to convert the 'grav' variable. Defaults to 4.\n",
        "                                4 : labels (1 = 'Indemme', 2 = 'Tué', 3 = 'Blessé hospitalisé', 4 = 'Blessé léger')\n",
        "                                3 : labels (1 = 'Indemme', 2 = 'Tué', 3 = 'Blessé') --> Blessé = Need medical attention\n",
        "                                2 : labels (1 = 'Survivants', 2 = 'Tué')\n",
        "\n",
        "    Returns:\n",
        "        dataframe : dataframe with the 'grav' variable with the number of classes specified.\n",
        "    \"\"\"\n",
        "    # df = clean_data.copy()\n",
        "    if classes == 4 :\n",
        "        df_c4 = clean_data.copy()\n",
        "        print('Distibution between the {} classes : '.format(classes))\n",
        "        print(\"labels (1 = 'Indemme', 2 = 'Tué', 3 = 'Blessé hospitalisé', 4 = 'Blessé léger')\")\n",
        "        print(df_c4.grav.value_counts())\n",
        "        print(\"=========================================================\")\n",
        "        return df_c4\n",
        "    elif classes == 3 :\n",
        "        df_c3 = clean_data.copy()\n",
        "        print('Distibution between the {} classes : '.format(classes))\n",
        "        print(\"labels (1 = 'Indemme', 2 = 'Tué', 3 = 'Blessé') --> Blessé = Need medical attention\")\n",
        "        df_c3.grav.replace(4, 3, inplace=True)\n",
        "        print(df_c3.grav.value_counts())\n",
        "        print(\"=========================================================\")\n",
        "        return df_c3\n",
        "    elif classes == 2 :\n",
        "        df_c2 = clean_data.copy()\n",
        "        print('Distibution between the {} classes : '.format(classes))\n",
        "        print(\"labels (1 = 'Survivant', 2 = 'Tué')\")\n",
        "        df_c2.grav.replace(4, 1, inplace=True)\n",
        "        df_c2.grav.replace(3, 1, inplace=True)\n",
        "        print(df_c2.grav.value_counts())\n",
        "        print(\"=========================================================\")\n",
        "        return df_c2\n",
        "    else : \n",
        "        print(\"Insert a valid option\")\n",
        "        print(\"=========================================================\")\n",
        "    "
      ]
    },
    {
      "cell_type": "code",
      "execution_count": 291,
      "metadata": {},
      "outputs": [
        {
          "name": "stdout",
          "output_type": "stream",
          "text": [
            "Distibution between the 4 classes : \n",
            "labels (1 = 'Indemme', 2 = 'Tué', 3 = 'Blessé hospitalisé', 4 = 'Blessé léger')\n",
            "1    55276\n",
            "4    53256\n",
            "3    20854\n",
            "2     3497\n",
            "Name: grav, dtype: int64\n",
            "=========================================================\n",
            "Distibution between the 3 classes : \n",
            "labels (1 = 'Indemme', 2 = 'Tué', 3 = 'Blessé') --> Blessé = Need medical attention\n",
            "3    74110\n",
            "1    55276\n",
            "2     3497\n",
            "Name: grav, dtype: int64\n",
            "=========================================================\n",
            "Distibution between the 2 classes : \n",
            "labels (1 = 'Survivant', 2 = 'Tué')\n",
            "1    129386\n",
            "2      3497\n",
            "Name: grav, dtype: int64\n",
            "=========================================================\n"
          ]
        }
      ],
      "source": [
        "data4 = merge_classes(data, classes = 4)\n",
        "data3 = merge_classes(data, classes = 3)\n",
        "data2 = merge_classes(data, classes = 2)"
      ]
    },
    {
      "cell_type": "code",
      "execution_count": 283,
      "metadata": {},
      "outputs": [
        {
          "data": {
            "text/plain": [
              "array([4, 1, 3, 2], dtype=int64)"
            ]
          },
          "execution_count": 283,
          "metadata": {},
          "output_type": "execute_result"
        }
      ],
      "source": [
        "data4.grav.unique()"
      ]
    },
    {
      "cell_type": "code",
      "execution_count": 292,
      "metadata": {
        "id": "5eY19rHk0jBT"
      },
      "outputs": [],
      "source": [
        "y4 = data4.grav\n",
        "X4 = data4.drop(columns='grav')\n",
        "y3 = data3.grav\n",
        "X3 = data3.drop(columns='grav')\n",
        "y2 = data2.grav\n",
        "X2 = data2.drop(columns='grav')"
      ]
    },
    {
      "cell_type": "markdown",
      "metadata": {
        "id": "j1zDTZ5D1qh8"
      },
      "source": [
        "#### Using undersampling methods (imblearn)"
      ]
    },
    {
      "cell_type": "code",
      "execution_count": 20,
      "metadata": {
        "id": "0JqbzN4E0jBT"
      },
      "outputs": [],
      "source": [
        "# Install imblearn\n",
        "# !pip install imblearn"
      ]
    },
    {
      "cell_type": "code",
      "execution_count": 299,
      "metadata": {},
      "outputs": [],
      "source": [
        "import numpy as np\n",
        "from pprint import pprint\n",
        "from imblearn.under_sampling import RandomUnderSampler\n",
        "from collections import Counter\n",
        "from sklearn.model_selection import train_test_split\n",
        "from sklearn.ensemble import RandomForestClassifier\n",
        "from sklearn.ensemble import GradientBoostingClassifier\n",
        "from sklearn.preprocessing import normalize\n",
        "from sklearn.metrics import accuracy_score"
      ]
    },
    {
      "cell_type": "code",
      "execution_count": 307,
      "metadata": {},
      "outputs": [],
      "source": [
        "def underSamp(X, y):\n",
        "    rus = RandomUnderSampler(random_state=42, replacement=True)\n",
        "    X_rus, y_rus = rus.fit_resample(X, y)\n",
        "    print('Original dataset shape:', Counter(y))\n",
        "    print('Resample dataset shape', Counter(y_rus))\n",
        "    return X_rus, y_rus"
      ]
    },
    {
      "cell_type": "code",
      "execution_count": 313,
      "metadata": {},
      "outputs": [
        {
          "name": "stdout",
          "output_type": "stream",
          "text": [
            "Original dataset shape: Counter({3: 74110, 1: 55276, 2: 3497})\n",
            "Resample dataset shape Counter({1: 3497, 2: 3497, 3: 3497})\n"
          ]
        }
      ],
      "source": [
        "X, y = underSamp(X3, y3)"
      ]
    },
    {
      "cell_type": "code",
      "execution_count": 315,
      "metadata": {
        "id": "Cc2sPGO_0jBU"
      },
      "outputs": [],
      "source": [
        "# hot encoding of the features\n",
        "X = pd.get_dummies(X.astype(str))\n",
        "\n",
        "# Normalizing the data\n",
        "X = normalize(X.values)\n",
        "\n",
        "# Splitting the data for training and test purpose\n",
        "X_train, X_test, y_train, y_test = train_test_split(X, y, random_state=42, test_size= .3)\n"
      ]
    },
    {
      "cell_type": "markdown",
      "metadata": {
        "id": "s2IJOBTt0jBU"
      },
      "source": [
        "<span style = 'color : red'>===================================================================<span>"
      ]
    },
    {
      "cell_type": "markdown",
      "metadata": {
        "id": "IwiTX29b0jBV"
      },
      "source": [
        "# Logistic regression"
      ]
    },
    {
      "cell_type": "code",
      "execution_count": 316,
      "metadata": {
        "id": "-W8HsvGD0jBV"
      },
      "outputs": [],
      "source": [
        "# Importation du module\n",
        "from sklearn.linear_model import LogisticRegression\n",
        "# Entrainnement du modèle\n",
        "logreg = LogisticRegression()\n"
      ]
    },
    {
      "cell_type": "code",
      "execution_count": 317,
      "metadata": {
        "colab": {
          "base_uri": "https://localhost:8080/"
        },
        "id": "ugFgSqhY0jBV",
        "outputId": "29054c31-3e2d-4d65-c04a-23d08b389564"
      },
      "outputs": [
        {
          "name": "stderr",
          "output_type": "stream",
          "text": [
            "C:\\Users\\bsully\\Anaconda3\\lib\\site-packages\\sklearn\\linear_model\\_logistic.py:763: ConvergenceWarning: lbfgs failed to converge (status=1):\n",
            "STOP: TOTAL NO. of ITERATIONS REACHED LIMIT.\n",
            "\n",
            "Increase the number of iterations (max_iter) or scale the data as shown in:\n",
            "    https://scikit-learn.org/stable/modules/preprocessing.html\n",
            "Please also refer to the documentation for alternative solver options:\n",
            "    https://scikit-learn.org/stable/modules/linear_model.html#logistic-regression\n",
            "  n_iter_i = _check_optimize_result(\n"
          ]
        }
      ],
      "source": [
        "model_reg = logreg.fit(X_train, y_train)"
      ]
    },
    {
      "cell_type": "code",
      "execution_count": 318,
      "metadata": {
        "colab": {
          "base_uri": "https://localhost:8080/"
        },
        "id": "tyFMJZov0jBV",
        "outputId": "dd4eaa87-8702-4a72-9ff8-73baaa7befec"
      },
      "outputs": [
        {
          "name": "stdout",
          "output_type": "stream",
          "text": [
            "Base Regression Model Score : 0.660\n"
          ]
        }
      ],
      "source": [
        "model_reg_score = model_reg.score(X_test, y_test)\n",
        "print('Base Regression Model Score : {:04.3f}'.format(model_reg_score))"
      ]
    },
    {
      "cell_type": "markdown",
      "metadata": {
        "id": "G4pYgfHF0jBV"
      },
      "source": [
        "<span style = 'color : yellow'>===================================================================<span>"
      ]
    },
    {
      "cell_type": "code",
      "execution_count": 319,
      "metadata": {
        "id": "2NskWUB10jBW"
      },
      "outputs": [],
      "source": [
        "# Predictions (test set)\n",
        "predictions_test_reg = model_reg.predict(X_test)\n"
      ]
    },
    {
      "cell_type": "code",
      "execution_count": 320,
      "metadata": {
        "colab": {
          "base_uri": "https://localhost:8080/",
          "height": 542
        },
        "id": "C24j1NHa0jBW",
        "outputId": "473be7f1-37a3-4c1d-cbba-be31b567f2c0"
      },
      "outputs": [
        {
          "name": "stdout",
          "output_type": "stream",
          "text": [
            "\n",
            "              precision    recall  f1-score   support\n",
            "\n",
            "           1      0.712     0.786     0.747      1063\n",
            "           2      0.672     0.693     0.682      1054\n",
            "           3      0.578     0.499     0.535      1031\n",
            "\n",
            "    accuracy                          0.660      3148\n",
            "   macro avg      0.654     0.659     0.655      3148\n",
            "weighted avg      0.655     0.660     0.656      3148\n",
            "\n"
          ]
        },
        {
          "data": {
            "image/png": "[encoded data removed]",
            "text/plain": [
              "<Figure size 432x288 with 2 Axes>"
            ]
          },
          "metadata": {
            "needs_background": "light"
          },
          "output_type": "display_data"
        }
      ],
      "source": [
        "from sklearn.metrics import classification_report, plot_confusion_matrix\n",
        "disp = plot_confusion_matrix(model_reg,\n",
        "                             X_test,\n",
        "                             y_test,\n",
        "                             cmap='Reds',\n",
        "                             values_format='d'\n",
        "                             )\n",
        "print(\"\")\n",
        "print(classification_report(y_test, \n",
        "                            predictions_test_reg, \n",
        "                            digits=3, \n",
        "                            zero_division = 1\n",
        "                            )\n",
        "      )"
      ]
    },
    {
      "cell_type": "markdown",
      "metadata": {
        "id": "w0mH3Nfg0jBW"
      },
      "source": [
        "# Hyperparameters tuning"
      ]
    },
    {
      "cell_type": "code",
      "execution_count": 321,
      "metadata": {
        "colab": {
          "base_uri": "https://localhost:8080/"
        },
        "id": "73a86pgG0jBW",
        "outputId": "e029b9ee-af84-4593-eb46-985a8c7c10f1"
      },
      "outputs": [
        {
          "name": "stdout",
          "output_type": "stream",
          "text": [
            "Parameters currently in use :\n",
            "{'C': 1.0,\n",
            " 'class_weight': None,\n",
            " 'dual': False,\n",
            " 'fit_intercept': True,\n",
            " 'intercept_scaling': 1,\n",
            " 'l1_ratio': None,\n",
            " 'max_iter': 100,\n",
            " 'multi_class': 'auto',\n",
            " 'n_jobs': None,\n",
            " 'penalty': 'l2',\n",
            " 'random_state': None,\n",
            " 'solver': 'lbfgs',\n",
            " 'tol': 0.0001,\n",
            " 'verbose': 0,\n",
            " 'warm_start': False}\n"
          ]
        }
      ],
      "source": [
        "# Look at parameters used by our current base forest\n",
        "print('Parameters currently in use :')\n",
        "pprint(model_reg.get_params())"
      ]
    },
    {
      "cell_type": "code",
      "execution_count": 322,
      "metadata": {
        "id": "x83lvJHd0jBW"
      },
      "outputs": [],
      "source": [
        "from sklearn.model_selection import GridSearchCV\n",
        "param_grid = [\n",
        "    {\n",
        "        'penalty' : [\"l2\", 'elasticnet', 'l1'],\n",
        "        'C' : np.logspace(-4, 5, 5),\n",
        "        'solver': ['saga']\n",
        "    }\n",
        "]\n"
      ]
    },
    {
      "cell_type": "code",
      "execution_count": 323,
      "metadata": {
        "id": "wWZfzDeg0jBX"
      },
      "outputs": [],
      "source": [
        "grid_reg = GridSearchCV(model_reg, \n",
        "                       param_grid, \n",
        "                       cv = 2\n",
        "                       )"
      ]
    },
    {
      "cell_type": "code",
      "execution_count": null,
      "metadata": {
        "colab": {
          "base_uri": "https://localhost:8080/"
        },
        "id": "uKlDOxkA0jBX",
        "outputId": "25e11a99-1ef2-4930-e3cf-9ac299c37e81"
      },
      "outputs": [],
      "source": [
        "# Entrainnement du modèle optimisé\n",
        "best_grid_reg = grid_reg.fit(X_train, y_train)"
      ]
    },
    {
      "cell_type": "code",
      "execution_count": 325,
      "metadata": {
        "colab": {
          "base_uri": "https://localhost:8080/"
        },
        "id": "Ecy7r9L70jBX",
        "outputId": "4415c458-17a6-4dbb-e486-795ac9dfb1f1"
      },
      "outputs": [
        {
          "name": "stdout",
          "output_type": "stream",
          "text": [
            "Parmètres optimisés :  {'C': 3.1622776601683795, 'penalty': 'l1', 'solver': 'saga'}\n"
          ]
        }
      ],
      "source": [
        "# Présentation des paramètres du modèle optimal\n",
        "print(\"Parmètres optimisés : \",best_grid_reg.best_params_)"
      ]
    },
    {
      "cell_type": "code",
      "execution_count": 326,
      "metadata": {
        "id": "BoavBuiU0jBX"
      },
      "outputs": [],
      "source": [
        "best_reg_model = best_grid_reg.best_estimator_\n",
        "best_reg_pred = best_reg_model.predict(X_test)"
      ]
    },
    {
      "cell_type": "code",
      "execution_count": 327,
      "metadata": {
        "colab": {
          "base_uri": "https://localhost:8080/",
          "height": 525
        },
        "id": "B5rrTghb0jBX",
        "outputId": "d5fdaa56-36ca-4f98-d5fb-01ee477e0e4a"
      },
      "outputs": [
        {
          "name": "stdout",
          "output_type": "stream",
          "text": [
            "              precision    recall  f1-score   support\n",
            "\n",
            "           1      0.718     0.805     0.759      1063\n",
            "           2      0.688     0.692     0.690      1054\n",
            "           3      0.579     0.503     0.539      1031\n",
            "\n",
            "    accuracy                          0.668      3148\n",
            "   macro avg      0.662     0.667     0.663      3148\n",
            "weighted avg      0.662     0.668     0.664      3148\n",
            "\n"
          ]
        },
        {
          "data": {
            "image/png": "[encoded data removed]",
            "text/plain": [
              "<Figure size 432x288 with 2 Axes>"
            ]
          },
          "metadata": {
            "needs_background": "light"
          },
          "output_type": "display_data"
        }
      ],
      "source": [
        "print(classification_report(y_test, \n",
        "                            best_reg_pred, \n",
        "                            digits = 3, \n",
        "                            zero_division = 1\n",
        "                            )\n",
        "      )\n",
        "disp = plot_confusion_matrix(best_reg_model, \n",
        "                             X_test, \n",
        "                             y_test, \n",
        "                             cmap='Reds', \n",
        "                             values_format='d'\n",
        "                             )"
      ]
    },
    {
      "cell_type": "markdown",
      "metadata": {
        "id": "lkeCaEb_0jBY"
      },
      "source": [
        "<span style = 'color : red'>===================================================================<span>"
      ]
    },
    {
      "cell_type": "code",
      "execution_count": null,
      "metadata": {
        "id": "qHSe4ikf0jBY"
      },
      "outputs": [],
      "source": []
    },
    {
      "cell_type": "markdown",
      "metadata": {
        "id": "OQcsvATh0jBY"
      },
      "source": [
        "# Random forest"
      ]
    },
    {
      "cell_type": "code",
      "execution_count": 328,
      "metadata": {
        "id": "f4nhzaOq0jBZ"
      },
      "outputs": [],
      "source": [
        "# Default Random forest\n",
        "rf = RandomForestClassifier(random_state=42)\n",
        "\n",
        "# fitting \n",
        "model_rf = rf.fit(X_train, y_train)\n",
        "\n",
        "# Predictions (test)\n",
        "predictions_test = model_rf.predict(X_test)\n"
      ]
    },
    {
      "cell_type": "code",
      "execution_count": 329,
      "metadata": {
        "colab": {
          "base_uri": "https://localhost:8080/"
        },
        "id": "MzUDmUMj0jBZ",
        "outputId": "c88763a6-5c96-4631-ff14-31b82bdc9809"
      },
      "outputs": [
        {
          "name": "stdout",
          "output_type": "stream",
          "text": [
            "Trainning accuracy : 0.999\n",
            "Test accuracy  : 0.668\n"
          ]
        }
      ],
      "source": [
        "\n",
        "print('Trainning accuracy : {:04.3f}'.format(model_rf.score(X_train, y_train)))\n",
        "print('Test accuracy  : {:04.3f}'.format(model_rf.score(X_test, y_test)))"
      ]
    },
    {
      "cell_type": "code",
      "execution_count": 332,
      "metadata": {
        "colab": {
          "base_uri": "https://localhost:8080/",
          "height": 580
        },
        "id": "CkvhxMI70jBZ",
        "outputId": "3ebceb21-4ce4-40b3-ae5e-7e67cbd07ce9"
      },
      "outputs": [
        {
          "name": "stdout",
          "output_type": "stream",
          "text": [
            "              precision    recall  f1-score   support\n",
            "\n",
            "           1      0.724     0.777     0.750      1063\n",
            "           2      0.680     0.722     0.700      1054\n",
            "           3      0.581     0.500     0.538      1031\n",
            "\n",
            "    accuracy                          0.668      3148\n",
            "   macro avg      0.662     0.667     0.663      3148\n",
            "weighted avg      0.662     0.668     0.664      3148\n",
            "\n"
          ]
        },
        {
          "data": {
            "image/png": "[encoded data removed]",
            "text/plain": [
              "<Figure size 432x288 with 2 Axes>"
            ]
          },
          "metadata": {
            "needs_background": "light"
          },
          "output_type": "display_data"
        }
      ],
      "source": [
        "from sklearn.metrics import plot_confusion_matrix, classification_report\n",
        "# labels_disp = [\"Indemne\", \"Tué\", \"Hospitalisé\", \"Blessé léger\"]\n",
        "print(classification_report(y_test, predictions_test, digits=3, zero_division = 1)),\n",
        "disp = plot_confusion_matrix(model_rf, \n",
        "                             X_test, \n",
        "                             y_test, \n",
        "                             cmap='Reds', \n",
        "                             values_format='d',\n",
        "                            #  display_labels=labels_disp,\n",
        "                             xticks_rotation= 'vertical'\n",
        "                             )"
      ]
    },
    {
      "cell_type": "markdown",
      "metadata": {
        "id": "tpEkYn-f0jBZ"
      },
      "source": [
        "# Hyperarameters tuning for Random Forest"
      ]
    },
    {
      "cell_type": "code",
      "execution_count": 333,
      "metadata": {
        "colab": {
          "base_uri": "https://localhost:8080/"
        },
        "id": "sX7KO7JJ0jBZ",
        "outputId": "1952d2ab-d155-4a3a-fe76-9140efc2ac61"
      },
      "outputs": [
        {
          "name": "stdout",
          "output_type": "stream",
          "text": [
            "Parameters currently in use :\n",
            "{'bootstrap': True,\n",
            " 'ccp_alpha': 0.0,\n",
            " 'class_weight': None,\n",
            " 'criterion': 'gini',\n",
            " 'max_depth': None,\n",
            " 'max_features': 'auto',\n",
            " 'max_leaf_nodes': None,\n",
            " 'max_samples': None,\n",
            " 'min_impurity_decrease': 0.0,\n",
            " 'min_impurity_split': None,\n",
            " 'min_samples_leaf': 1,\n",
            " 'min_samples_split': 2,\n",
            " 'min_weight_fraction_leaf': 0.0,\n",
            " 'n_estimators': 100,\n",
            " 'n_jobs': None,\n",
            " 'oob_score': False,\n",
            " 'random_state': 42,\n",
            " 'verbose': 0,\n",
            " 'warm_start': False}\n"
          ]
        }
      ],
      "source": [
        "# Look at parameters used by our current base forest\n",
        "print('Parameters currently in use :')\n",
        "pprint(model_rf.get_params())"
      ]
    },
    {
      "cell_type": "code",
      "execution_count": 334,
      "metadata": {
        "id": "9YsuWsjj0jBa"
      },
      "outputs": [],
      "source": [
        "from sklearn.model_selection import GridSearchCV\n",
        "param_grid = {\n",
        "    'n_estimators': [100, 200,400, 500]\n",
        "}\n",
        "\n",
        "# Instantiate the grid search model\n",
        "rf_grid = GridSearchCV(estimator = model_rf, \n",
        "                           param_grid = param_grid,\n",
        "                           cv = 5, n_jobs=-1)"
      ]
    },
    {
      "cell_type": "code",
      "execution_count": 335,
      "metadata": {
        "id": "gU8vXWz00jBa"
      },
      "outputs": [],
      "source": [
        "# Fit the grid search to the data\n",
        "best_rf_grid = rf_grid.fit(X_train, y_train)"
      ]
    },
    {
      "cell_type": "code",
      "execution_count": 336,
      "metadata": {
        "colab": {
          "base_uri": "https://localhost:8080/"
        },
        "id": "Vv5TScNx0jBa",
        "outputId": "06305cfd-0a6c-4cdb-cc72-3b74b6e124cb"
      },
      "outputs": [
        {
          "name": "stdout",
          "output_type": "stream",
          "text": [
            "Ramdom Forest model best parameters :\n",
            "{'n_estimators': 500}\n"
          ]
        }
      ],
      "source": [
        "print('Ramdom Forest model best parameters :')\n",
        "pprint(best_rf_grid.best_params_)"
      ]
    },
    {
      "cell_type": "code",
      "execution_count": 337,
      "metadata": {
        "id": "zAfgbwU_0jBa"
      },
      "outputs": [],
      "source": [
        "best_rf_model = best_rf_grid.best_estimator_\n",
        "best_rf_pred = best_rf_model.predict(X_test)"
      ]
    },
    {
      "cell_type": "code",
      "execution_count": 338,
      "metadata": {
        "colab": {
          "base_uri": "https://localhost:8080/"
        },
        "id": "FV_nsBXf0jBa",
        "outputId": "06a74cf8-fec7-4a33-802e-24290351fb24"
      },
      "outputs": [
        {
          "name": "stdout",
          "output_type": "stream",
          "text": [
            "Accuracy on test set (model_rf) : 0.674\n"
          ]
        }
      ],
      "source": [
        "\n",
        "print('Accuracy on test set (model_rf) : {:04.3f}'.format(best_rf_model.score(X_test, y_test)))"
      ]
    },
    {
      "cell_type": "code",
      "execution_count": 339,
      "metadata": {
        "colab": {
          "base_uri": "https://localhost:8080/",
          "height": 579
        },
        "id": "T9hq9so30jBa",
        "outputId": "7fe6aaee-23ef-4ee7-9277-7d98b854193d"
      },
      "outputs": [
        {
          "name": "stdout",
          "output_type": "stream",
          "text": [
            "              precision    recall  f1-score   support\n",
            "\n",
            "           1      0.737     0.784     0.760      1063\n",
            "           2      0.684     0.724     0.703      1054\n",
            "           3      0.583     0.510     0.544      1031\n",
            "\n",
            "    accuracy                          0.674      3148\n",
            "   macro avg      0.668     0.673     0.669      3148\n",
            "weighted avg      0.669     0.674     0.670      3148\n",
            "\n"
          ]
        },
        {
          "data": {
            "image/png": "[encoded data removed]",
            "text/plain": [
              "<Figure size 432x288 with 2 Axes>"
            ]
          },
          "metadata": {
            "needs_background": "light"
          },
          "output_type": "display_data"
        }
      ],
      "source": [
        "print(classification_report(y_test, best_rf_pred, \n",
        "                            digits=3, zero_division = 1))\n",
        "\n",
        "disp = plot_confusion_matrix(best_rf_model, \n",
        "                             X_test, \n",
        "                             y_test, \n",
        "                             cmap='Reds', \n",
        "                             values_format='d',\n",
        "                            #  display_labels=labels_disp,\n",
        "                             xticks_rotation='vertical')"
      ]
    },
    {
      "cell_type": "code",
      "execution_count": null,
      "metadata": {
        "id": "_rC-yhWN0jBb"
      },
      "outputs": [],
      "source": []
    },
    {
      "cell_type": "code",
      "execution_count": null,
      "metadata": {
        "id": "YVtZcjvR0jBb"
      },
      "outputs": [],
      "source": []
    },
    {
      "cell_type": "code",
      "execution_count": null,
      "metadata": {
        "id": "uINy-oqI0jBb"
      },
      "outputs": [],
      "source": []
    },
    {
      "cell_type": "markdown",
      "metadata": {
        "id": "w90g94bd0jBb"
      },
      "source": [
        "# Extreme Gradient Boosting"
      ]
    },
    {
      "cell_type": "code",
      "execution_count": 341,
      "metadata": {
        "colab": {
          "base_uri": "https://localhost:8080/"
        },
        "id": "3bUzYTKa0jBb",
        "outputId": "85ef24b2-f869-4ed5-c11e-f7343f26ae37"
      },
      "outputs": [
        {
          "name": "stdout",
          "output_type": "stream",
          "text": [
            "Done\n"
          ]
        }
      ],
      "source": [
        "# On redécoupe la base en train/test\n",
        "\n",
        "# X_train_xgb, X_test_xgb, y_train_xgb, y_test_xgb = train_test_split(X_N_data, y, random_state=42, test_size=.3)\n",
        "\n",
        "\n",
        "# On crée le modèle :\n",
        "\n",
        "xgb = GradientBoostingClassifier()\n",
        "\n",
        "model_xgb = xgb.fit(X, y)\n",
        "print(\"Done\")"
      ]
    },
    {
      "cell_type": "code",
      "execution_count": 343,
      "metadata": {
        "id": "mXBcnERk0jBc"
      },
      "outputs": [],
      "source": [
        "\n",
        "# On calcul les prédictions\n",
        "predictions_test_xgb = model_xgb.predict(X_test)\n",
        "predictions_train_xgb = model_xgb.predict(X_train)"
      ]
    },
    {
      "cell_type": "code",
      "execution_count": 344,
      "metadata": {
        "colab": {
          "base_uri": "https://localhost:8080/"
        },
        "id": "KebvmY_h0jBc",
        "outputId": "3865b595-6542-4a7a-cb47-dab094a7dfc1"
      },
      "outputs": [
        {
          "name": "stdout",
          "output_type": "stream",
          "text": [
            "Accuracy on test set : 0.700\n",
            "Accuracy on train set : 0.705\n"
          ]
        }
      ],
      "source": [
        "print('Accuracy on test set : {:04.3f}'.format(model_xgb.score(X_test, y_test)))\n",
        "\n",
        "train_acc = accuracy_score(y_train, predictions_train_xgb)\n",
        "print('Accuracy on train set : {:04.3f}'.format(train_acc))"
      ]
    },
    {
      "cell_type": "code",
      "execution_count": 345,
      "metadata": {
        "colab": {
          "base_uri": "https://localhost:8080/",
          "height": 577
        },
        "id": "dtLmGzUp0jBc",
        "outputId": "0e9bcb46-ef69-4375-db5b-128ff0535831"
      },
      "outputs": [
        {
          "name": "stdout",
          "output_type": "stream",
          "text": [
            "              precision    recall  f1-score   support\n",
            "\n",
            "           1      0.734     0.826     0.777      1063\n",
            "           2      0.704     0.737     0.720      1054\n",
            "           3      0.647     0.532     0.584      1031\n",
            "\n",
            "    accuracy                          0.700      3148\n",
            "   macro avg      0.695     0.698     0.694      3148\n",
            "weighted avg      0.695     0.700     0.695      3148\n",
            "\n"
          ]
        },
        {
          "data": {
            "image/png": "[encoded data removed]",
            "text/plain": [
              "<Figure size 432x288 with 2 Axes>"
            ]
          },
          "metadata": {
            "needs_background": "light"
          },
          "output_type": "display_data"
        }
      ],
      "source": [
        "print(classification_report(y_test, predictions_test_xgb, digits=3))\n",
        "from sklearn.metrics import plot_confusion_matrix\n",
        "\n",
        "disp = plot_confusion_matrix(model_xgb, X_test, y_test, \n",
        "                             cmap='Reds', values_format='d', \n",
        "                            #  display_labels=labels_disp,\n",
        "                             xticks_rotation= 'vertical')"
      ]
    },
    {
      "cell_type": "markdown",
      "metadata": {
        "id": "BeQNEvCF0jBd"
      },
      "source": [
        "# Hyperparameter tuning"
      ]
    },
    {
      "cell_type": "code",
      "execution_count": 346,
      "metadata": {
        "colab": {
          "base_uri": "https://localhost:8080/"
        },
        "id": "AqdfNCjZP9YL",
        "outputId": "87375c5c-284a-455d-da0d-0a8d5178a671"
      },
      "outputs": [
        {
          "data": {
            "text/plain": [
              "{'ccp_alpha': 0.0,\n",
              " 'criterion': 'friedman_mse',\n",
              " 'init': None,\n",
              " 'learning_rate': 0.1,\n",
              " 'loss': 'deviance',\n",
              " 'max_depth': 3,\n",
              " 'max_features': None,\n",
              " 'max_leaf_nodes': None,\n",
              " 'min_impurity_decrease': 0.0,\n",
              " 'min_impurity_split': None,\n",
              " 'min_samples_leaf': 1,\n",
              " 'min_samples_split': 2,\n",
              " 'min_weight_fraction_leaf': 0.0,\n",
              " 'n_estimators': 100,\n",
              " 'n_iter_no_change': None,\n",
              " 'random_state': None,\n",
              " 'subsample': 1.0,\n",
              " 'tol': 0.0001,\n",
              " 'validation_fraction': 0.1,\n",
              " 'verbose': 0,\n",
              " 'warm_start': False}"
            ]
          },
          "execution_count": 346,
          "metadata": {},
          "output_type": "execute_result"
        }
      ],
      "source": [
        "model_xgb.get_params()"
      ]
    },
    {
      "cell_type": "code",
      "execution_count": 347,
      "metadata": {
        "id": "Vb0G69g90jBd"
      },
      "outputs": [],
      "source": [
        "\n",
        "param_grid = {\n",
        "    'n_estimators' : [100, 200, 300]\n",
        "}\n",
        "\n",
        "# Instantiate the grid search model\n",
        "\n",
        "xgb_grid = GridSearchCV(estimator = model_xgb, \n",
        "                           param_grid = param_grid,\n",
        "                           cv = 2, n_jobs=-1)"
      ]
    },
    {
      "cell_type": "code",
      "execution_count": 348,
      "metadata": {
        "id": "jA8yK3PS0jBd"
      },
      "outputs": [],
      "source": [
        "best_xgb_model = xgb_grid.fit(X_train, y_train)"
      ]
    },
    {
      "cell_type": "code",
      "execution_count": 349,
      "metadata": {
        "colab": {
          "base_uri": "https://localhost:8080/"
        },
        "id": "MsIUPqO90jBe",
        "outputId": "c953b89a-a15c-4e37-bcb6-363376e67d6c"
      },
      "outputs": [
        {
          "data": {
            "text/plain": [
              "GradientBoostingClassifier(n_estimators=300)"
            ]
          },
          "execution_count": 349,
          "metadata": {},
          "output_type": "execute_result"
        }
      ],
      "source": [
        "\n",
        "best_xgb_model.best_estimator_"
      ]
    },
    {
      "cell_type": "code",
      "execution_count": 350,
      "metadata": {
        "colab": {
          "base_uri": "https://localhost:8080/"
        },
        "id": "RnEAWt-l0jBe",
        "outputId": "cc57156f-32b4-4beb-b7ee-d8f8e53fcae4"
      },
      "outputs": [
        {
          "ename": "NameError",
          "evalue": "name 'X_test_xgb' is not defined",
          "output_type": "error",
          "traceback": [
            "\u001b[1;31m---------------------------------------------------------------------------\u001b[0m",
            "\u001b[1;31mNameError\u001b[0m                                 Traceback (most recent call last)",
            "\u001b[1;32m<ipython-input-350-3c5f09f0ae1e>\u001b[0m in \u001b[0;36m<module>\u001b[1;34m\u001b[0m\n\u001b[1;32m----> 1\u001b[1;33m \u001b[0mprint\u001b[0m\u001b[1;33m(\u001b[0m\u001b[1;34m'Accuracy on test set : {:04.3f}'\u001b[0m\u001b[1;33m.\u001b[0m\u001b[0mformat\u001b[0m\u001b[1;33m(\u001b[0m\u001b[0mbest_xgb_model\u001b[0m\u001b[1;33m.\u001b[0m\u001b[0mscore\u001b[0m\u001b[1;33m(\u001b[0m\u001b[0mX_test_xgb\u001b[0m\u001b[1;33m,\u001b[0m \u001b[0my_test_xgb\u001b[0m\u001b[1;33m)\u001b[0m\u001b[1;33m)\u001b[0m\u001b[1;33m)\u001b[0m\u001b[1;33m\u001b[0m\u001b[1;33m\u001b[0m\u001b[0m\n\u001b[0m",
            "\u001b[1;31mNameError\u001b[0m: name 'X_test_xgb' is not defined"
          ]
        }
      ],
      "source": [
        "\n",
        "print('Accuracy on test set : {:04.3f}'.format(best_xgb_model.score(X_test_xgb, y_test_xgb)))"
      ]
    },
    {
      "cell_type": "markdown",
      "metadata": {
        "id": "H8mruz6X0jBf"
      },
      "source": [
        "# Questions\n",
        "## 1. Comment les modalites avec les petites representations vont affecter le modele?\n",
        "## 2. Quels sont les algos de classifications qu'on peut encore essayer pour ameliorer?\n",
        "## 3. Prisen en comptes des suggestions se l'article, comment s'y prendre? (https://larevueia.fr/xgboost-vs-random-forest-predire-la-gravite-dun-accident-de-la-route/)\n",
        "## 4. Suggestions?"
      ]
    },
    {
      "cell_type": "markdown",
      "metadata": {
        "id": "e_4BOD790jBf"
      },
      "source": [
        "#svm"
      ]
    },
    {
      "cell_type": "code",
      "execution_count": null,
      "metadata": {
        "id": "d-EaGGn-0jBf"
      },
      "outputs": [],
      "source": [
        "##### Création de notre modèle SVM"
      ]
    },
    {
      "cell_type": "code",
      "execution_count": null,
      "metadata": {
        "id": "X-iQEuI30jBf"
      },
      "outputs": [],
      "source": [
        "X_train_SVM, X_test_SVM, y_train_SVM, y_test_SVM = train_test_split(X_N_data, y, test_size=0.3)"
      ]
    },
    {
      "cell_type": "code",
      "execution_count": null,
      "metadata": {
        "colab": {
          "base_uri": "https://localhost:8080/"
        },
        "id": "QjOvL3Hm0jBf",
        "outputId": "40ff8a47-fa65-4e77-8f1e-234d27586b55"
      },
      "outputs": [
        {
          "name": "stdout",
          "output_type": "stream",
          "text": [
            "8738  samples in training data\n",
            " 3746  samples in test data\n",
            "\n"
          ]
        }
      ],
      "source": [
        "print(len(X_train_SVM),' samples in training data\\n',\n",
        "      len(X_test_SVM),' samples in test data\\n', )"
      ]
    },
    {
      "cell_type": "code",
      "execution_count": null,
      "metadata": {
        "colab": {
          "base_uri": "https://localhost:8080/"
        },
        "id": "qE0vnPJa0jBf",
        "outputId": "a0e92385-3210-4d2b-8bd7-a0d1e95f4e1b"
      },
      "outputs": [
        {
          "data": {
            "text/plain": [
              "SVC(kernel='linear', random_state=42)"
            ]
          },
          "execution_count": 87,
          "metadata": {},
          "output_type": "execute_result"
        }
      ],
      "source": [
        "from sklearn.svm import SVC\n",
        "classifier = SVC(kernel = 'linear', random_state = 42) # kernel linéaire\n",
        "classifier.fit(X_train_SVM, y_train_SVM)"
      ]
    },
    {
      "cell_type": "markdown",
      "metadata": {
        "id": "taMcIFA00jBg"
      },
      "source": [
        "# Faire la prédiction"
      ]
    },
    {
      "cell_type": "code",
      "execution_count": null,
      "metadata": {
        "id": "uXIGKHY40jBg"
      },
      "outputs": [],
      "source": [
        "y_pred1 = classifier.predict(X_test_SVM)"
      ]
    },
    {
      "cell_type": "code",
      "execution_count": null,
      "metadata": {
        "id": "Hql_BjBU0jBg"
      },
      "outputs": [],
      "source": [
        "# Evaluer le modèle"
      ]
    },
    {
      "cell_type": "code",
      "execution_count": null,
      "metadata": {
        "colab": {
          "base_uri": "https://localhost:8080/"
        },
        "id": "tTdgOFpl0jBg",
        "outputId": "3265f8bd-1e53-480b-f3f9-c0d2a082ffd2"
      },
      "outputs": [
        {
          "name": "stdout",
          "output_type": "stream",
          "text": [
            "[[716  48  67  97]\n",
            " [ 73 537 214 109]\n",
            " [ 93 285 310 242]\n",
            " [277  97 107 474]]\n",
            "              precision    recall  f1-score   support\n",
            "\n",
            "           1      0.618     0.772     0.686       928\n",
            "           2      0.555     0.576     0.565       933\n",
            "           3      0.444     0.333     0.381       930\n",
            "           4      0.514     0.496     0.505       955\n",
            "\n",
            "    accuracy                          0.544      3746\n",
            "   macro avg      0.533     0.544     0.534      3746\n",
            "weighted avg      0.533     0.544     0.534      3746\n",
            "\n"
          ]
        }
      ],
      "source": [
        "from sklearn.metrics import classification_report, confusion_matrix\n",
        "print(confusion_matrix(y_test_SVM, y_pred1))\n",
        "print(classification_report(y_test_SVM, y_pred1, digits=3))"
      ]
    },
    {
      "cell_type": "code",
      "execution_count": null,
      "metadata": {
        "colab": {
          "base_uri": "https://localhost:8080/",
          "height": 335
        },
        "id": "N18r9fAn0jBg",
        "outputId": "9dd92bff-903b-4827-e75f-89b89a3a6106"
      },
      "outputs": [
        {
          "name": "stderr",
          "output_type": "stream",
          "text": [
            "/usr/local/lib/python3.7/dist-packages/sklearn/utils/deprecation.py:87: FutureWarning: Function plot_confusion_matrix is deprecated; Function `plot_confusion_matrix` is deprecated in 1.0 and will be removed in 1.2. Use one of the class methods: ConfusionMatrixDisplay.from_predictions or ConfusionMatrixDisplay.from_estimator.\n",
            "  warnings.warn(msg, category=FutureWarning)\n"
          ]
        },
        {
          "data": {
            "image/png": "[encoded data removed]",
            "text/plain": [
              "<Figure size 432x288 with 2 Axes>"
            ]
          },
          "metadata": {
            "needs_background": "light"
          },
          "output_type": "display_data"
        }
      ],
      "source": [
        "from sklearn.metrics import plot_confusion_matrix\n",
        "\n",
        "disp = plot_confusion_matrix(classifier, \n",
        "                             X_test_SVM, \n",
        "                             y_test_SVM, \n",
        "                             cmap='Reds', \n",
        "                             values_format='d',\n",
        "                             display_labels = [\"Indemne\", \"Tué\", \"Blessé hospitalisé\", \"Blessé léger\"])"
      ]
    },
    {
      "cell_type": "markdown",
      "metadata": {
        "id": "eRBdtTew0jBg"
      },
      "source": [
        "# KNN"
      ]
    },
    {
      "cell_type": "markdown",
      "metadata": {
        "id": "8iPY5pTf0jBh"
      },
      "source": []
    },
    {
      "cell_type": "code",
      "execution_count": null,
      "metadata": {
        "id": "KsEe-1AI0jBh"
      },
      "outputs": [],
      "source": [
        "X_train_knn, X_test_knn, y_train_knn, y_test_knn= train_test_split(X_N_data, y, random_state=42, test_size=.3)"
      ]
    },
    {
      "cell_type": "code",
      "execution_count": null,
      "metadata": {
        "colab": {
          "base_uri": "https://localhost:8080/"
        },
        "id": "zB0fdDuF0jBh",
        "outputId": "4fe697e5-2452-429b-d34e-49d64bb39d44"
      },
      "outputs": [
        {
          "name": "stdout",
          "output_type": "stream",
          "text": [
            "8738  samples in training data\n",
            " 3746  samples in test data\n",
            "\n"
          ]
        }
      ],
      "source": [
        "print(len(X_train_knn),' samples in training data\\n',\n",
        "      len(X_test_knn),' samples in test data\\n', )"
      ]
    },
    {
      "cell_type": "code",
      "execution_count": null,
      "metadata": {
        "id": "y3kPxXdG0jBh"
      },
      "outputs": [],
      "source": [
        "# Learning\n",
        "from sklearn.neighbors import KNeighborsClassifier\n",
        "\n",
        "knn = KNeighborsClassifier() # définition de l'estimateur\n",
        "model_knn = knn.fit(X_train_knn, y_train_knn) # apprentissage (estimation du modèle)"
      ]
    },
    {
      "cell_type": "code",
      "execution_count": null,
      "metadata": {
        "colab": {
          "base_uri": "https://localhost:8080/"
        },
        "id": "yFKhnjh60jBh",
        "outputId": "eb47b76b-582b-4cba-d549-75f2a3242238"
      },
      "outputs": [
        {
          "data": {
            "text/plain": [
              "{'algorithm': 'auto',\n",
              " 'leaf_size': 30,\n",
              " 'metric': 'minkowski',\n",
              " 'metric_params': None,\n",
              " 'n_jobs': None,\n",
              " 'n_neighbors': 5,\n",
              " 'p': 2,\n",
              " 'weights': 'uniform'}"
            ]
          },
          "execution_count": 97,
          "metadata": {},
          "output_type": "execute_result"
        }
      ],
      "source": [
        "model_knn.get_params()"
      ]
    },
    {
      "cell_type": "code",
      "execution_count": null,
      "metadata": {
        "colab": {
          "base_uri": "https://localhost:8080/"
        },
        "id": "dsZfR-sn0jBh",
        "outputId": "2f1eaa95-24d0-4a0c-8632-8c75a73bdb32"
      },
      "outputs": [
        {
          "name": "stdout",
          "output_type": "stream",
          "text": [
            "Base KNN accuracy :0.503\n"
          ]
        }
      ],
      "source": [
        "print('Base KNN accuracy :{:04.3f}'.format(model_knn.score(X_test_knn, y_test_knn)))\n"
      ]
    },
    {
      "cell_type": "code",
      "execution_count": null,
      "metadata": {
        "colab": {
          "base_uri": "https://localhost:8080/"
        },
        "id": "QpB4u0TF0jBi",
        "outputId": "f2e6057f-383f-414c-809d-0ce727a196e0"
      },
      "outputs": [
        {
          "name": "stdout",
          "output_type": "stream",
          "text": [
            "              precision    recall  f1-score   support\n",
            "\n",
            "     Indemne      0.572     0.703     0.631       943\n",
            "         Tué      0.530     0.554     0.541       966\n",
            " Hospitalisé      0.401     0.403     0.402       900\n",
            "Blessé léger      0.480     0.344     0.400       937\n",
            "\n",
            "    accuracy                          0.503      3746\n",
            "   macro avg      0.496     0.501     0.494      3746\n",
            "weighted avg      0.497     0.503     0.495      3746\n",
            "\n"
          ]
        }
      ],
      "source": [
        "knn_pred = model_knn.predict(X_test_knn)\n",
        "print(classification_report(y_test_knn, \n",
        "                            knn_pred, \n",
        "                            digits=3, \n",
        "                            target_names=labels_disp))"
      ]
    },
    {
      "cell_type": "markdown",
      "metadata": {
        "id": "fnbHJNDi0jBi"
      },
      "source": [
        "# tuning"
      ]
    },
    {
      "cell_type": "code",
      "execution_count": null,
      "metadata": {
        "id": "nJUpmuPv0jBi"
      },
      "outputs": [],
      "source": [
        "param_grid = {\n",
        "    'n_neighbors': [5, 7, 10]\n",
        "}\n",
        "\n",
        "# Instantiate the grid search model\n",
        "\n",
        "knn_grid = GridSearchCV(estimator = model_knn, \n",
        "                           param_grid = param_grid,\n",
        "                           cv = 2, n_jobs=-1)"
      ]
    },
    {
      "cell_type": "code",
      "execution_count": null,
      "metadata": {
        "id": "2p-06F-F0jBi"
      },
      "outputs": [],
      "source": [
        "best_grid_knn = knn_grid.fit(X_train_knn, y_train_knn)"
      ]
    },
    {
      "cell_type": "code",
      "execution_count": null,
      "metadata": {
        "colab": {
          "base_uri": "https://localhost:8080/"
        },
        "id": "r1f5Oo3GS0kL",
        "outputId": "c4be8551-08b7-48c9-fbc4-b6dad1e28cdd"
      },
      "outputs": [
        {
          "data": {
            "text/plain": [
              "{'cv': 2,\n",
              " 'error_score': nan,\n",
              " 'estimator': KNeighborsClassifier(),\n",
              " 'estimator__algorithm': 'auto',\n",
              " 'estimator__leaf_size': 30,\n",
              " 'estimator__metric': 'minkowski',\n",
              " 'estimator__metric_params': None,\n",
              " 'estimator__n_jobs': None,\n",
              " 'estimator__n_neighbors': 5,\n",
              " 'estimator__p': 2,\n",
              " 'estimator__weights': 'uniform',\n",
              " 'n_jobs': -1,\n",
              " 'param_grid': {'n_neighbors': [5, 7, 10]},\n",
              " 'pre_dispatch': '2*n_jobs',\n",
              " 'refit': True,\n",
              " 'return_train_score': False,\n",
              " 'scoring': None,\n",
              " 'verbose': 0}"
            ]
          },
          "execution_count": 102,
          "metadata": {},
          "output_type": "execute_result"
        }
      ],
      "source": [
        "best_grid_knn.get_params()"
      ]
    },
    {
      "cell_type": "code",
      "execution_count": null,
      "metadata": {
        "colab": {
          "base_uri": "https://localhost:8080/"
        },
        "id": "e0WUaFn40jBi",
        "outputId": "38d1ac11-af66-4547-d44c-7d6cfc135f1c"
      },
      "outputs": [
        {
          "name": "stdout",
          "output_type": "stream",
          "text": [
            "Accuracy on test set : 0.512\n"
          ]
        }
      ],
      "source": [
        "print('Accuracy on test set : {:04.3f}'.format(best_grid_knn.score(X_test_knn, y_test_knn)))\n"
      ]
    },
    {
      "cell_type": "markdown",
      "metadata": {
        "id": "xlqfpWhR0jBi"
      },
      "source": [
        "# Imporper balanced data\n",
        "https://www.analyticsvidhya.com/blog/2020/07/10-techniques-to-deal-with-class-imbalance-in-machine-learning/"
      ]
    }
  ],
  "metadata": {
    "colab": {
      "collapsed_sections": [
        "H8mruz6X0jBf",
        "e_4BOD790jBf",
        "taMcIFA00jBg",
        "eRBdtTew0jBg",
        "fnbHJNDi0jBi",
        "xlqfpWhR0jBi"
      ],
      "name": "Copy of Final_project_colab.ipynb",
      "provenance": []
    },
    "interpreter": {
      "hash": "a94f09328fd3e2fe90580e1b0af4127392053aec22d41566fb9ed67e92f0e9f0"
    },
    "kernelspec": {
      "display_name": "Python 3",
      "language": "python",
      "name": "python3"
    },
    "language_info": {
      "codemirror_mode": {
        "name": "ipython",
        "version": 3
      },
      "file_extension": ".py",
      "mimetype": "text/x-python",
      "name": "python",
      "nbconvert_exporter": "python",
      "pygments_lexer": "ipython3",
      "version": "3.8.8"
    }
  },
  "nbformat": 4,
  "nbformat_minor": 0
}
