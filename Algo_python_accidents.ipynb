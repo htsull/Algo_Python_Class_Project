{
  "cells": [
    {
      "cell_type": "markdown",
      "metadata": {},
      "source": [
        "### Contents\n",
        "1. Summary\n",
        "2. Data Processing\n",
        "    - Import tools and primary data\n",
        "    - Merging data\n",
        "    - Missing values handling\n",
        "    - Features and target selection\n",
        "    - Sampling problem (Improper balance of the data)\n",
        "        + Merging classes\n",
        "        + Features and target selection\n",
        "        + Using undersampling methods (imblearn)\n",
        "3. Models classification\n",
        "4. Formulation 1 (4 classes problem)\n",
        "    - Underdsampling\n",
        "    - Splitting\n",
        "        + Random Forest (RF)\n",
        "            * Hyperparameters tuning\n",
        "        + Extreme gradient boosting (XGB)\n",
        "        + K-Nearest Neihgbors (KNN)\n",
        "            * Hyperparameters tuning\n",
        "    - Conclusion\n",
        "5. Formulation 2 (3 classes problem)\n",
        "    - Underdsampling\n",
        "    - Splitting\n",
        "        + Random Forest (RF)\n",
        "            * Hyperparameters tuning\n",
        "        + Extreme gradient boosting (XGB)\n",
        "        + K-Nearest Neihgbors (KNN)\n",
        "            * Hyperparameters tuning\n",
        "    - Conclusion\n",
        "6. Formulation 3 (binary problem)\n",
        "    - Underdsampling\n",
        "    - Splitting\n",
        "        + Random Forest (RF)\n",
        "            * Hyperparameters tuning\n",
        "        + Extreme gradient boosting (XGB)\n",
        "        + K-Nearest Neihgbors (KNN)\n",
        "            * Hyperparameters tuning\n",
        "    - Conclusion\n",
        "7. Findings"
      ]
    },
    {
      "cell_type": "markdown",
      "metadata": {},
      "source": [
        "# 1. Summary"
      ]
    },
    {
      "cell_type": "markdown",
      "metadata": {},
      "source": [
        "The problem we are trying to approch here has been subject to some study by Ilyes Talbi, the author of the article [XGBoost vs Random Forest : prédire la gravité d’un accident de la route](https://larevueia.fr/xgboost-vs-random-forest-predire-la-gravite-dun-accident-de-la-route/) in the IA review. The author proposed as main problem the algorithms `Random Forest` and `XGBoost` in order to predict the gravity of the people who had a road accident. \n",
        "\n",
        "He found out the XGBoost algorithm predict better the labels than the Random Forest and their respective accuracy are `Random Forest : 60.35%` and `XGBoost : 65.9%`. He also provided some opportunities for improvement like the tuning of the hyperparameters and the handling of the imbalanced proportions of the data. So this is the situation we want to address.\n",
        "\n",
        "To provide a better and larger solution, we try also to have some differents approaches to solve the problem. To do so, we proceed like this : \n",
        "- We try to reformulate the problem three ways :\n",
        "    * Firstly, we have the same problem as the author (4 classes).\n",
        "    * Secondly, we merge the people who need medical attention (classes 3 and 4) and now we are dealing with a 3 classes problem.\n",
        "    * Finaly, we let all the people who are killed (class 2) and merge all the others as survivors (class 1).\n",
        "- We introduce the `k-Nearest Neighbors` algorithm to have another ground of comparison.\n",
        "- We tuned the hyperparameters except for the XGBoost part due to the numbers of parameters to specify. The author also had the same problem.\n",
        "- We use the under sampling method to handle the improper balanced data. However, a problem with this method is that we can lose some valuable informations in the prediction process that woul be helpful to the algorithm to predict the labels. And it was convenient for us also because of the computational problem that we would have in order to deal with at least 50000 observations by classes.\n",
        "- Given that we also had to implement different methods, we ensured that the overwhelming part of our proposed solution is function based. So we defined the `cleansing()`, `merge_classes()`, `model_accuracy()`, `underSamp()`, `splitting()` and `tuning()` functions to automate some of our results.\n",
        "\n",
        "At the end of our experience, we arrive as the same conclusion as the author of the article :\n",
        "> The `XBGoost algorithm` performs better in the majority of the formulations. \n",
        "\n",
        "The only times were it's not the case is when we found out that the Random Forest algorithm has a better accuracy on the train set but the overfitting in the data undermined the confidence in the predictions.\n",
        "\n",
        "Now as improvement opportunities, it would be very interesting to tune the hyperparameters of the `XBGoost algorithm` in order to see exactly the limits of it. Our best results with it was in the binary problem were we had `79.3%` of accuracy."
      ]
    },
    {
      "cell_type": "markdown",
      "metadata": {},
      "source": [
        "# 2. Data processing"
      ]
    },
    {
      "cell_type": "markdown",
      "metadata": {
        "id": "dEgVopz-0jBB"
      },
      "source": [
        "## Import tools and primary data"
      ]
    },
    {
      "cell_type": "code",
      "execution_count": 43,
      "metadata": {
        "colab": {
          "base_uri": "https://localhost:8080/"
        },
        "id": "AiWs7YZ_0jBF",
        "outputId": "289fb256-ddef-44cc-aacb-3bf83bb66e0e"
      },
      "outputs": [],
      "source": [
        "import pandas as pd\n",
        "from pprint import pprint\n",
        "import numpy as np\n",
        "from pprint import pprint\n",
        "from imblearn.under_sampling import RandomUnderSampler\n",
        "from collections import Counter\n",
        "from sklearn.model_selection import train_test_split\n",
        "from sklearn.ensemble import RandomForestClassifier\n",
        "from sklearn.neighbors import KNeighborsClassifier\n",
        "from sklearn.ensemble import GradientBoostingClassifier\n",
        "from sklearn.preprocessing import normalize\n",
        "from sklearn.metrics import accuracy_score\n",
        "from sklearn.metrics import plot_confusion_matrix, classification_report\n",
        "from sklearn.model_selection import GridSearchCV\n"
      ]
    },
    {
      "cell_type": "code",
      "execution_count": 44,
      "metadata": {},
      "outputs": [
        {
          "name": "stdout",
          "output_type": "stream",
          "text": [
            "Done\n"
          ]
        }
      ],
      "source": [
        "\n",
        "df1 = pd.read_csv(\"usagers.csv\")\n",
        "df2 = pd.read_csv(\"vehicules.csv\")\n",
        "df3 = pd.read_csv(\"caract.csv\")\n",
        "df4 = pd.read_csv(\"lieux.csv\")\n",
        "print('Done')"
      ]
    },
    {
      "cell_type": "markdown",
      "metadata": {
        "id": "9WvwlQTD0jBH"
      },
      "source": [
        "## Merge original data"
      ]
    },
    {
      "cell_type": "code",
      "execution_count": 45,
      "metadata": {
        "id": "VXnqNqbVYn7H"
      },
      "outputs": [],
      "source": [
        "data1 = df1.merge(df2,on=['Num_Acc','num_veh', 'id_vehicule'])\n",
        "data2 = df3.merge(df4,on = 'Num_Acc')\n",
        "data = data1.merge(data2,on='Num_Acc')"
      ]
    },
    {
      "cell_type": "markdown",
      "metadata": {},
      "source": [
        "## Missing values handling"
      ]
    },
    {
      "cell_type": "code",
      "execution_count": 46,
      "metadata": {},
      "outputs": [],
      "source": [
        "def cleansing(data_to_clean):\n",
        "      print(\"=====================================================================\")\n",
        "      print(\"Dimension of the data : {}\".format(data_to_clean.shape))\n",
        "      print(\"=====================================================================\")\n",
        "      print(repr(\"Columns with more than 10% of missing values  :\"))\n",
        "      # count nan values\n",
        "      nan_values = data_to_clean.isna().sum()\n",
        "      # percentage of nan values ay column\n",
        "      nan_values = nan_values.sort_values(ascending=False) *100 / data_to_clean.shape[0]\n",
        "      # columns with nan values greater than 10%\n",
        "      nan_values = nan_values.loc[nan_values > 10]\n",
        "      print(nan_values)\n",
        "      # Drop nan_values criteria columns\n",
        "      data = data_to_clean.drop(nan_values.to_dict().keys(), axis=1)\n",
        "      # Drop other column not concerned or not making sens in the process\n",
        "      data = data.drop(['lat','secu1', 'secu2', 'secu3'], axis=1)\n",
        "      print(\"=====================================================================\")\n",
        "  \n",
        "      print(\"Processing the hrmn variable...\")\n",
        "      data.hrmn = data.hrmn.str.split(':').str[0]\n",
        "      print(\"=====================================================================\")\n",
        "      \n",
        "      print('Dimension of the data after dropping the variables with NaN more than 10% : {}'.format(data.shape))\n",
        "      print(\"=====================================================================\")\n",
        "  \n",
        "      print(\"Variables conversion in Category type...\")\n",
        "      cat = ['lum', 'agg', 'int', 'atm', 'col',\n",
        "        'catr', 'circ', 'vosp', 'prof', \n",
        "       'plan', 'surf', 'infra', 'situ', 'senc',\n",
        "       'catv', 'obs', 'obsm', 'choc', 'manv', \n",
        "       'catu', 'sexe', 'trajet', 'actp']\n",
        "\n",
        "      data[cat] = data[cat].astype('category')\n",
        "  \n",
        "      drop = ['an_nais', 'motor', 'jour', 'mois', 'dep', \n",
        "        'com', 'adr', 'voie', 'nbv', 'pr', 'pr1',\n",
        "        'Num_Acc', 'id_vehicule', 'num_veh']\n",
        "\n",
        "      data = data.drop(drop, axis=1)\n",
        "  \n",
        "      print(\"=====================================================================\")\n",
        "      print(\"Variation of the variables...\")\n",
        "      print(data.var().sort_values().head())\n",
        "  \n",
        "      print(\"=====================================================================\")\n",
        "      data = data.drop('an', axis=1)\n",
        "      print(\"Dimension of the data after dropping 'an' variable (No valuable informations) : {}\".format(data.shape))\n",
        "  \n",
        "      print(\"=====================================================================\")\n",
        "      data = data.dropna(axis=0, how='any')\n",
        "      print(\"Dimension of the data after dropping all rows with NaN: {}\".format(data.shape))\n",
        "  \n",
        "      print(\"=====================================================================\")\n",
        "\n",
        "      print(\"**************************Cleansing done*****************************\")\n",
        "      print(\"=====================================================================\")\n",
        "      return data\n"
      ]
    },
    {
      "cell_type": "code",
      "execution_count": 47,
      "metadata": {},
      "outputs": [
        {
          "name": "stdout",
          "output_type": "stream",
          "text": [
            "=====================================================================\n",
            "Dimension of the data : (132977, 54)\n",
            "=====================================================================\n",
            "'Columns with more than 10% of missing values  :'\n",
            "long       100.000000\n",
            "lartpc      99.648811\n",
            "larrout     99.375080\n",
            "occutc      98.587726\n",
            "v2          92.673921\n",
            "v1          18.567121\n",
            "dtype: float64\n",
            "=====================================================================\n",
            "Processing the hrmn variable...\n",
            "=====================================================================\n",
            "Dimension of the data after dropping the variables with NaN more than 10% : (132977, 44)\n",
            "=====================================================================\n",
            "Variables conversion in Category type...\n",
            "=====================================================================\n",
            "Variation of the variables...\n",
            "an       0.000000\n",
            "etatp    0.420301\n",
            "locp     1.556945\n",
            "grav     1.881877\n",
            "place    7.266928\n",
            "dtype: float64\n",
            "=====================================================================\n",
            "Dimension of the data after dropping 'an' variable (No valuable informations) : (132977, 29)\n",
            "=====================================================================\n",
            "Dimension of the data after dropping all rows with NaN: (132883, 29)\n",
            "=====================================================================\n",
            "**************************Cleansing done*****************************\n",
            "=====================================================================\n"
          ]
        }
      ],
      "source": [
        "data = cleansing(data)"
      ]
    },
    {
      "cell_type": "markdown",
      "metadata": {},
      "source": [
        "## Sampling problem handling (Improper balance of the data)"
      ]
    },
    {
      "cell_type": "code",
      "execution_count": 48,
      "metadata": {},
      "outputs": [],
      "source": [
        "def merge_classes(clean_data, classes = 4):\n",
        "    \"\"\"Merge classes of the 'grav' variable to simplify the problem.\n",
        "\n",
        "    Args:\n",
        "        clean_data (dataframe): datarame of data already cleaned by the function cleansing()\n",
        "        classes (int, optional): numbers of classes to convert the 'grav' variable. Defaults to 4.\n",
        "                                4 : labels (1 = 'Indemme', 2 = 'Tué', 3 = 'Blessé hospitalisé', 4 = 'Blessé léger')\n",
        "                                3 : labels (1 = 'Indemme', 2 = 'Tué', 3 = 'Blessé') --> Blessé = Need medical attention\n",
        "                                2 : labels (1 = 'Survivants', 2 = 'Tué')\n",
        "\n",
        "    Returns:\n",
        "        dataframe : dataframe with the 'grav' variable with the number of classes specified.\n",
        "    \"\"\"\n",
        "    # df = clean_data.copy()\n",
        "    if classes == 4 :\n",
        "        df_c4 = clean_data.copy()\n",
        "        print('Distibution between the {} classes : '.format(classes))\n",
        "        print(\"labels (1 = 'Indemme', 2 = 'Tué', 3 = 'Blessé hospitalisé', 4 = 'Blessé léger')\")\n",
        "        print(df_c4.grav.value_counts())\n",
        "        print(\"=========================================================\")\n",
        "        return df_c4\n",
        "    elif classes == 3 :\n",
        "        df_c3 = clean_data.copy()\n",
        "        print('Distibution between the {} classes : '.format(classes))\n",
        "        print(\"labels (1 = 'Indemme', 2 = 'Tué', 3 = 'Blessé') --> Blessé = Need medical attention\")\n",
        "        df_c3.grav.replace(4, 3, inplace=True)\n",
        "        print(df_c3.grav.value_counts())\n",
        "        print(\"=========================================================\")\n",
        "        return df_c3\n",
        "    elif classes == 2 :\n",
        "        df_c2 = clean_data.copy()\n",
        "        print('Distibution between the {} classes : '.format(classes))\n",
        "        print(\"labels (1 = 'Survivant', 2 = 'Tué')\")\n",
        "        df_c2.grav.replace(4, 1, inplace=True)\n",
        "        df_c2.grav.replace(3, 1, inplace=True)\n",
        "        print(df_c2.grav.value_counts())\n",
        "        print(\"=========================================================\")\n",
        "        return df_c2\n",
        "    else : \n",
        "        print(\"Insert a valid option\")\n",
        "        print(\"=========================================================\")"
      ]
    },
    {
      "cell_type": "markdown",
      "metadata": {},
      "source": [
        "### Merging classes"
      ]
    },
    {
      "cell_type": "code",
      "execution_count": 49,
      "metadata": {},
      "outputs": [
        {
          "name": "stdout",
          "output_type": "stream",
          "text": [
            "Distibution between the 4 classes : \n",
            "labels (1 = 'Indemme', 2 = 'Tué', 3 = 'Blessé hospitalisé', 4 = 'Blessé léger')\n",
            "1    55276\n",
            "4    53256\n",
            "3    20854\n",
            "2     3497\n",
            "Name: grav, dtype: int64\n",
            "=========================================================\n",
            "Distibution between the 3 classes : \n",
            "labels (1 = 'Indemme', 2 = 'Tué', 3 = 'Blessé') --> Blessé = Need medical attention\n",
            "3    74110\n",
            "1    55276\n",
            "2     3497\n",
            "Name: grav, dtype: int64\n",
            "=========================================================\n",
            "Distibution between the 2 classes : \n",
            "labels (1 = 'Survivant', 2 = 'Tué')\n",
            "1    129386\n",
            "2      3497\n",
            "Name: grav, dtype: int64\n",
            "=========================================================\n"
          ]
        }
      ],
      "source": [
        "data4 = merge_classes(data, classes = 4)\n",
        "data3 = merge_classes(data, classes = 3)\n",
        "data2 = merge_classes(data, classes = 2)"
      ]
    },
    {
      "cell_type": "markdown",
      "metadata": {},
      "source": [
        "### Features and target selection"
      ]
    },
    {
      "cell_type": "code",
      "execution_count": 50,
      "metadata": {},
      "outputs": [],
      "source": [
        "y4 = data4.grav\n",
        "X4 = data4.drop(columns='grav')\n",
        "y3 = data3.grav\n",
        "X3 = data3.drop(columns='grav')\n",
        "y2 = data2.grav\n",
        "X2 = data2.drop(columns='grav')"
      ]
    },
    {
      "cell_type": "markdown",
      "metadata": {},
      "source": [
        "### Using undersampling methods (imblearn)"
      ]
    },
    {
      "cell_type": "code",
      "execution_count": 51,
      "metadata": {},
      "outputs": [],
      "source": [
        "# Install imblearn\n",
        "# !pip install imblearn #Uncomment this line to install imblearn"
      ]
    },
    {
      "cell_type": "code",
      "execution_count": 52,
      "metadata": {},
      "outputs": [],
      "source": [
        "def underSamp(X, y):\n",
        "    rus = RandomUnderSampler(random_state=42, replacement=True)\n",
        "    X_rus, y_rus = rus.fit_resample(X, y)\n",
        "    print('Original dataset shape : ', Counter(y))\n",
        "    print('Resample dataset shape : ', Counter(y_rus))\n",
        "    return X_rus, y_rus"
      ]
    },
    {
      "cell_type": "markdown",
      "metadata": {},
      "source": [
        "# 3. Models Specification"
      ]
    },
    {
      "cell_type": "code",
      "execution_count": 157,
      "metadata": {},
      "outputs": [],
      "source": [
        "\n",
        "def model_accuracy(model):\n",
        "    \"\"\"Perform the fitting, print out the accuracy, classification report and confusion matrix with the given model\n",
        "\n",
        "    Args:\n",
        "        model(string) : model to perform. 'rf' : random forest, 'xgb' : XGBoost, 'knn' : K-Nearest Neighbors.\n",
        "\n",
        "    Returns:\n",
        "        classifier: model fit to the train set.\n",
        "    \"\"\"\n",
        "    if model == 'rf':\n",
        "        print(\"Random forest model\")\n",
        "        # fitting \n",
        "        model_rf = RandomForestClassifier(random_state=42).fit(X_train, y_train)\n",
        "        # Predictions (test)\n",
        "        predictions_test = model_rf.predict(X_test)\n",
        "        print('Base model accuracy  : {:04.3f}'.format(model_rf.score(X_test, y_test)))\n",
        "        print(\"Classification report : \")\n",
        "        print(\"=========================================================================\")\n",
        "        print(classification_report(y_test, predictions_test, digits=3, zero_division = 1)),\n",
        "        disp = plot_confusion_matrix(model_rf, X_test, y_test, cmap='Reds', values_format='d',\n",
        "                                    #  display_labels=labels_disp,\n",
        "                                    xticks_rotation= 'vertical')\n",
        "        print(\"=========================================================================\")\n",
        "        print(\"Confusion matrix : \")\n",
        "        return model_rf\n",
        "    \n",
        "    elif model == 'xgb':\n",
        "        print(\"Extreme gradient boosting model\")\n",
        "        # fitting \n",
        "        model_xgb = GradientBoostingClassifier().fit(X_train, y_train)\n",
        "        print(\"=========================================================================\")\n",
        "        print(\"Fitting to the train set : {:04.2f}\".format(model_xgb.score(X_train, y_train)))\n",
        "        # Predictions (test)\n",
        "        print(\"=========================================================================\")\n",
        "        predictions_test = model_xgb.predict(X_test)\n",
        "        print('Base model accuracy  : {:04.3f}'.format(model_xgb.score(X_test, y_test)))\n",
        "        print(\"=========================================================================\")\n",
        "        print(\"Classification report : \")\n",
        "        print(classification_report(y_test, predictions_test, digits=3, zero_division = 1)),\n",
        "        disp = plot_confusion_matrix(model_xgb, X_test, y_test, cmap='Reds', values_format='d',\n",
        "                                    #  display_labels=labels_disp,\n",
        "                                    xticks_rotation= 'vertical')\n",
        "        print(\"=========================================================================\")\n",
        "        print(\"Confusion matrix : \")\n",
        "        return model_xgb\n",
        "    \n",
        "    elif model == 'knn':\n",
        "        print(\"K-Nearest Neighbors model\")\n",
        "        # fitting \n",
        "        model_knn = KNeighborsClassifier().fit(X_train, y_train)\n",
        "        predictions_test = model_knn.predict(X_test)\n",
        "        print('Base model accuracy  : {:04.3f}'.format(model_knn.score(X_test, y_test)))\n",
        "        print(\"=========================================================================\")\n",
        "        print(\"Classification report : \")\n",
        "        print(classification_report(y_test, predictions_test, digits=3, zero_division = 1)),\n",
        "        disp = plot_confusion_matrix(model_knn, X_test, y_test, cmap='Reds', values_format='d',\n",
        "                                    #  display_labels=labels_disp,\n",
        "                                    xticks_rotation= 'vertical')\n",
        "        print(\"=========================================================================\")\n",
        "        print(\"Confusion matrix : \")\n",
        "        return model_knn\n",
        "    \n",
        "    else :\n",
        "        print(\"Enter a valid choice.\")"
      ]
    },
    {
      "cell_type": "markdown",
      "metadata": {},
      "source": [
        "# 4. Formulation 1 (4 classes problem)"
      ]
    },
    {
      "cell_type": "code",
      "execution_count": 150,
      "metadata": {},
      "outputs": [
        {
          "name": "stdout",
          "output_type": "stream",
          "text": [
            "Original dataset shape :  Counter({1: 55276, 4: 53256, 3: 20854, 2: 3497})\n",
            "Resample dataset shape :  Counter({1: 3497, 2: 3497, 3: 3497, 4: 3497})\n"
          ]
        }
      ],
      "source": [
        "# Undersampling \n",
        "X, y = underSamp(X4, y4)"
      ]
    },
    {
      "cell_type": "code",
      "execution_count": 151,
      "metadata": {},
      "outputs": [],
      "source": [
        "\n",
        "def splitting(X, y):\n",
        "    \"\"\"Use the train_test slit method from sklearn to separate the data\n",
        "\n",
        "    Args:\n",
        "        X : Features selected\n",
        "        y : Target \n",
        "\n",
        "    Returns:\n",
        "        splitting : list, length=2 * len(arrays)\n",
        "                    List containing train-test split of inputs.\n",
        "    \"\"\"\n",
        "    # hot encoding of the features\n",
        "    X = pd.get_dummies(X.astype(str))\n",
        "    # Normalizing the data\n",
        "    X = normalize(X.values)\n",
        "    # Splitting the data for training and test purpose\n",
        "    X_train, X_test, y_train, y_test = train_test_split(X, y, random_state=42, test_size= .3)\n",
        "    return X_train, X_test, y_train, y_test"
      ]
    },
    {
      "cell_type": "code",
      "execution_count": 152,
      "metadata": {},
      "outputs": [],
      "source": [
        "# Data separation in train and test sets\n",
        "X_train, X_test, y_train, y_test = splitting(X, y)"
      ]
    },
    {
      "cell_type": "markdown",
      "metadata": {},
      "source": [
        "## Random forest"
      ]
    },
    {
      "cell_type": "code",
      "execution_count": 111,
      "metadata": {},
      "outputs": [
        {
          "name": "stdout",
          "output_type": "stream",
          "text": [
            "Random forest model\n",
            "Base model accuracy  : 0.566\n",
            "Classification report : \n",
            "=========================================================================\n",
            "              precision    recall  f1-score   support\n",
            "\n",
            "           1      0.670     0.748     0.707      1051\n",
            "           2      0.559     0.598     0.578      1042\n",
            "           3      0.485     0.429     0.455      1069\n",
            "           4      0.528     0.490     0.508      1035\n",
            "\n",
            "    accuracy                          0.566      4197\n",
            "   macro avg      0.560     0.566     0.562      4197\n",
            "weighted avg      0.560     0.566     0.562      4197\n",
            "\n",
            "=========================================================================\n",
            "Confusion matrix : \n"
          ]
        },
        {
          "data": {
            "image/png": "[encoded data removed]",
            "text/plain": [
              "<Figure size 432x288 with 2 Axes>"
            ]
          },
          "metadata": {
            "needs_background": "light"
          },
          "output_type": "display_data"
        }
      ],
      "source": [
        "# Performing random forest model\n",
        "model_rf = model_accuracy('rf')"
      ]
    },
    {
      "cell_type": "markdown",
      "metadata": {},
      "source": [
        "### Hyperparameters tuning"
      ]
    },
    {
      "cell_type": "code",
      "execution_count": 114,
      "metadata": {},
      "outputs": [],
      "source": [
        "# Define the grid of parameters\n",
        "param_grid = {\n",
        "    'n_estimators': [100, 200,400, 500]\n",
        "}\n",
        "# Instantiate the grid search model\n",
        "grid = GridSearchCV(estimator = model_rf, param_grid = param_grid, cv = 5, n_jobs=-1)\n",
        "# Fit the grid search to the data\n",
        "best_rf_grid = grid.fit(X_train, y_train)"
      ]
    },
    {
      "cell_type": "code",
      "execution_count": 119,
      "metadata": {},
      "outputs": [],
      "source": [
        "def tuning(model):\n",
        "    \"\"\"Perform tuning of the models parameters\n",
        "\n",
        "    Args:\n",
        "        model: perfomed models by the model_accuracy() function\n",
        "    \"\"\"\n",
        "    if model == 'rf':\n",
        "        \n",
        "        print('Ramdom Forest model best parameters :', best_rf_grid.best_params_)\n",
        "        best_rf_model = best_rf_grid.best_estimator_\n",
        "        print(\"==============================================================================\")\n",
        "        print(\"Random forest final model :\", best_rf_model)\n",
        "        print(\"==============================================================================\")\n",
        "        print('Fitting to the train set : {:04.2f}'.format(best_rf_model.score(X_train, y_train)))\n",
        "        print(\"==============================================================================\")\n",
        "        score_best_rf = best_rf_model.score(X_test, y_test)\n",
        "        print('Final model Accuracy : {:04.3f}'.format(score_best_rf))\n",
        "        print(\"==============================================================================\")\n",
        "        score_base_rf = model_rf.score(X_test, y_test)\n",
        "        print(\"Base model accuracy : {:04.3f}\".format(score_base_rf))\n",
        "        print(\"==============================================================================\")\n",
        "        print(\"Classification report : \")\n",
        "        best_rf_pred = best_rf_model.predict(X_test)\n",
        "        print(classification_report(y_test, best_rf_pred, \n",
        "                                    digits=3, zero_division = 1))\n",
        "        print(\"==============================================================================\")\n",
        "        print(\"Confusion matrix : \")\n",
        "        disp = plot_confusion_matrix(best_rf_model, X_test, y_test, cmap='Reds', values_format='d',\n",
        "                                    #  display_labels=labels_disp,\n",
        "                                    xticks_rotation='vertical')\n",
        "    elif model == 'knn':\n",
        "        \n",
        "        print('KNN best parameters :', best_knn_grid.best_params_)\n",
        "        best_knn_model = best_knn_grid.best_estimator_\n",
        "        print(\"==============================================================================\")\n",
        "        print(\"KNN final model :\", best_knn_model)\n",
        "        print(\"==============================================================================\")\n",
        "        print('Fitting to the train set : {:04.2f}'.format(best_knn_model.score(X_train, y_train)))\n",
        "        print(\"==============================================================================\")\n",
        "        score_best_knn = best_knn_model.score(X_test, y_test)\n",
        "        print('Final model Accuracy : {:04.3f}'.format(score_best_knn))\n",
        "        print(\"==============================================================================\")\n",
        "        score_base_knn = model_knn.score(X_test, y_test)\n",
        "        print(\"Base model accuracy : {:04.3f}\".format(score_base_knn))\n",
        "        print(\"==============================================================================\")\n",
        "        print(\"Classification report : \")\n",
        "        best_knn_pred = best_knn_model.predict(X_test)\n",
        "        print(classification_report(y_test, best_knn_pred, \n",
        "                                    digits=3, zero_division = 1))\n",
        "        print(\"==============================================================================\")\n",
        "        print(\"Confusion matrix : \")\n",
        "        disp = plot_confusion_matrix(best_knn_model, X_test, y_test, cmap='Reds', values_format='d',\n",
        "                                    #  display_labels=labels_disp,\n",
        "                                    xticks_rotation='vertical')\n",
        "    else :\n",
        "        print(\"'Enter a valid option...\")"
      ]
    },
    {
      "cell_type": "code",
      "execution_count": 120,
      "metadata": {},
      "outputs": [
        {
          "name": "stdout",
          "output_type": "stream",
          "text": [
            "Ramdom Forest model best parameters : {'n_estimators': 400}\n",
            "==============================================================================\n",
            "Random forest final model : RandomForestClassifier(n_estimators=400, random_state=42)\n",
            "==============================================================================\n",
            "Fitting to the train set : 1.00\n",
            "==============================================================================\n",
            "Final model Accuracy : 0.571\n",
            "==============================================================================\n",
            "Base model accuracy : 0.566\n",
            "==============================================================================\n",
            "Classification report : \n",
            "              precision    recall  f1-score   support\n",
            "\n",
            "           1      0.669     0.741     0.703      1051\n",
            "           2      0.571     0.606     0.588      1042\n",
            "           3      0.505     0.433     0.466      1069\n",
            "           4      0.520     0.507     0.514      1035\n",
            "\n",
            "    accuracy                          0.571      4197\n",
            "   macro avg      0.566     0.572     0.568      4197\n",
            "weighted avg      0.566     0.571     0.567      4197\n",
            "\n",
            "==============================================================================\n",
            "Confusion matrix : \n"
          ]
        },
        {
          "data": {
            "image/png": "[encoded data removed]",
            "text/plain": [
              "<Figure size 432x288 with 2 Axes>"
            ]
          },
          "metadata": {
            "needs_background": "light"
          },
          "output_type": "display_data"
        }
      ],
      "source": [
        "# Perform a tuning of the model specified\n",
        "tuning('rf')"
      ]
    },
    {
      "cell_type": "markdown",
      "metadata": {},
      "source": [
        "## Extreme Gradient boosting model (XGB)"
      ]
    },
    {
      "cell_type": "code",
      "execution_count": 153,
      "metadata": {},
      "outputs": [
        {
          "name": "stdout",
          "output_type": "stream",
          "text": [
            "Extreme gradient boosting model\n",
            "=========================================================================\n",
            "Fitting to the train set : 0.61\n",
            "=========================================================================\n",
            "Base model accuracy  : 0.539\n",
            "=========================================================================\n",
            "Classification report : \n",
            "              precision    recall  f1-score   support\n",
            "\n",
            "           1      0.651     0.745     0.695      1051\n",
            "           2      0.538     0.583     0.559      1042\n",
            "           3      0.436     0.361     0.395      1069\n",
            "           4      0.497     0.471     0.484      1035\n",
            "\n",
            "    accuracy                          0.539      4197\n",
            "   macro avg      0.531     0.540     0.533      4197\n",
            "weighted avg      0.530     0.539     0.533      4197\n",
            "\n",
            "=========================================================================\n",
            "Confusion matrix : \n"
          ]
        },
        {
          "data": {
            "image/png": "[encoded data removed]",
            "text/plain": [
              "<Figure size 432x288 with 2 Axes>"
            ]
          },
          "metadata": {
            "needs_background": "light"
          },
          "output_type": "display_data"
        }
      ],
      "source": [
        "#  Perform XGB model\n",
        "model_xgb = model_accuracy('xgb')"
      ]
    },
    {
      "cell_type": "markdown",
      "metadata": {},
      "source": [
        "## kNN"
      ]
    },
    {
      "cell_type": "code",
      "execution_count": 121,
      "metadata": {},
      "outputs": [
        {
          "name": "stdout",
          "output_type": "stream",
          "text": [
            "K-Nearest Neighbors model\n",
            "Base model accuracy  : 0.480\n",
            "=========================================================================\n",
            "Classification report : \n",
            "              precision    recall  f1-score   support\n",
            "\n",
            "           1      0.530     0.666     0.590      1051\n",
            "           2      0.488     0.587     0.533      1042\n",
            "           3      0.392     0.349     0.369      1069\n",
            "           4      0.489     0.317     0.385      1035\n",
            "\n",
            "    accuracy                          0.480      4197\n",
            "   macro avg      0.475     0.480     0.469      4197\n",
            "weighted avg      0.474     0.480     0.469      4197\n",
            "\n",
            "=========================================================================\n",
            "Confusion matrix : \n"
          ]
        },
        {
          "data": {
            "image/png": "[encoded data removed]",
            "text/plain": [
              "<Figure size 432x288 with 2 Axes>"
            ]
          },
          "metadata": {
            "needs_background": "light"
          },
          "output_type": "display_data"
        }
      ],
      "source": [
        "# Perform KNN\n",
        "model_knn = model_accuracy('knn')"
      ]
    },
    {
      "cell_type": "markdown",
      "metadata": {},
      "source": [
        "### Hyperparameters tuning for KNN"
      ]
    },
    {
      "cell_type": "code",
      "execution_count": 122,
      "metadata": {},
      "outputs": [],
      "source": [
        "# Define the grid of parameters\n",
        "param_grid = {\n",
        "    'n_neighbors': [5, 7, 10, 15]\n",
        "}\n",
        "# Instantiate the grid search model\n",
        "grid = GridSearchCV(estimator = model_knn, param_grid = param_grid, cv = 5, n_jobs=-1)\n",
        "# Fit the grid search to the data\n",
        "best_knn_grid = grid.fit(X_train, y_train)"
      ]
    },
    {
      "cell_type": "code",
      "execution_count": 123,
      "metadata": {},
      "outputs": [
        {
          "name": "stdout",
          "output_type": "stream",
          "text": [
            "KNN best parameters : {'n_neighbors': 15}\n",
            "==============================================================================\n",
            "KNN final model : KNeighborsClassifier(n_neighbors=15)\n",
            "==============================================================================\n",
            "Fitting to the train set : 0.58\n",
            "==============================================================================\n",
            "Final model Accuracy : 0.488\n",
            "==============================================================================\n",
            "Base model accuracy : 0.480\n",
            "==============================================================================\n",
            "Classification report : \n",
            "              precision    recall  f1-score   support\n",
            "\n",
            "           1      0.558     0.692     0.618      1051\n",
            "           2      0.496     0.591     0.539      1042\n",
            "           3      0.392     0.352     0.371      1069\n",
            "           4      0.473     0.318     0.380      1035\n",
            "\n",
            "    accuracy                          0.488      4197\n",
            "   macro avg      0.480     0.488     0.477      4197\n",
            "weighted avg      0.480     0.488     0.477      4197\n",
            "\n",
            "==============================================================================\n",
            "Confusion matrix : \n"
          ]
        },
        {
          "data": {
            "image/png": "[encoded data removed]",
            "text/plain": [
              "<Figure size 432x288 with 2 Axes>"
            ]
          },
          "metadata": {
            "needs_background": "light"
          },
          "output_type": "display_data"
        }
      ],
      "source": [
        "tuning('knn')"
      ]
    },
    {
      "cell_type": "markdown",
      "metadata": {},
      "source": [
        "## Conclusion"
      ]
    },
    {
      "cell_type": "markdown",
      "metadata": {},
      "source": [
        "We found that the accuracy of the models after the tuning of the hyperparameters are : `Random Forest : 57.1%`, `XGB : 53.8%` and `kNN : 48.8%`. The Random Forest model clearly did a better job than the other models at predicting the 4 classes problem. However, the overfitting of the data in the Random Forest model can push us tho use the `XGB classifier` to approach the problem and the differences in the accuracy metric is not that large."
      ]
    },
    {
      "cell_type": "markdown",
      "metadata": {},
      "source": [
        "# 5. Formulation 2 (3 classes problem)"
      ]
    },
    {
      "cell_type": "code",
      "execution_count": 154,
      "metadata": {},
      "outputs": [
        {
          "name": "stdout",
          "output_type": "stream",
          "text": [
            "Original dataset shape :  Counter({3: 74110, 1: 55276, 2: 3497})\n",
            "Resample dataset shape :  Counter({1: 3497, 2: 3497, 3: 3497})\n"
          ]
        }
      ],
      "source": [
        "# Undersampling \n",
        "X, y = underSamp(X3, y3)"
      ]
    },
    {
      "cell_type": "code",
      "execution_count": 155,
      "metadata": {},
      "outputs": [],
      "source": [
        "# Data separation in train and test sets\n",
        "X_train, X_test, y_train, y_test = splitting(X, y)"
      ]
    },
    {
      "cell_type": "markdown",
      "metadata": {},
      "source": [
        "## Random forest"
      ]
    },
    {
      "cell_type": "code",
      "execution_count": 128,
      "metadata": {},
      "outputs": [
        {
          "name": "stdout",
          "output_type": "stream",
          "text": [
            "Random forest model\n",
            "Base model accuracy  : 0.668\n",
            "Classification report : \n",
            "=========================================================================\n",
            "              precision    recall  f1-score   support\n",
            "\n",
            "           1      0.724     0.777     0.750      1063\n",
            "           2      0.680     0.722     0.700      1054\n",
            "           3      0.581     0.500     0.538      1031\n",
            "\n",
            "    accuracy                          0.668      3148\n",
            "   macro avg      0.662     0.667     0.663      3148\n",
            "weighted avg      0.662     0.668     0.664      3148\n",
            "\n",
            "=========================================================================\n",
            "Confusion matrix : \n"
          ]
        },
        {
          "data": {
            "image/png": "[encoded data removed]",
            "text/plain": [
              "<Figure size 432x288 with 2 Axes>"
            ]
          },
          "metadata": {
            "needs_background": "light"
          },
          "output_type": "display_data"
        }
      ],
      "source": [
        "# Performing random forest model\n",
        "model_rf = model_accuracy('rf')"
      ]
    },
    {
      "cell_type": "markdown",
      "metadata": {},
      "source": [
        "### Hyperparameters tuning"
      ]
    },
    {
      "cell_type": "code",
      "execution_count": 129,
      "metadata": {},
      "outputs": [],
      "source": [
        "# Define the grid of parameters\n",
        "param_grid = {\n",
        "    'n_estimators': [100, 200,400, 500]\n",
        "}\n",
        "# Instantiate the grid search model\n",
        "grid = GridSearchCV(estimator = model_rf, param_grid = param_grid, cv = 5, n_jobs=-1)\n",
        "# Fit the grid search to the data\n",
        "best_rf_grid = grid.fit(X_train, y_train)"
      ]
    },
    {
      "cell_type": "code",
      "execution_count": 130,
      "metadata": {},
      "outputs": [
        {
          "name": "stdout",
          "output_type": "stream",
          "text": [
            "Ramdom Forest model best parameters : {'n_estimators': 500}\n",
            "==============================================================================\n",
            "Random forest final model : RandomForestClassifier(n_estimators=500, random_state=42)\n",
            "==============================================================================\n",
            "Fitting to the train set : 1.00\n",
            "==============================================================================\n",
            "Final model Accuracy : 0.674\n",
            "==============================================================================\n",
            "Base model accuracy : 0.668\n",
            "==============================================================================\n",
            "Classification report : \n",
            "              precision    recall  f1-score   support\n",
            "\n",
            "           1      0.737     0.784     0.760      1063\n",
            "           2      0.684     0.724     0.703      1054\n",
            "           3      0.583     0.510     0.544      1031\n",
            "\n",
            "    accuracy                          0.674      3148\n",
            "   macro avg      0.668     0.673     0.669      3148\n",
            "weighted avg      0.669     0.674     0.670      3148\n",
            "\n",
            "==============================================================================\n",
            "Confusion matrix : \n"
          ]
        },
        {
          "data": {
            "image/png": "[encoded data removed]",
            "text/plain": [
              "<Figure size 432x288 with 2 Axes>"
            ]
          },
          "metadata": {
            "needs_background": "light"
          },
          "output_type": "display_data"
        }
      ],
      "source": [
        "# Perform a tuning of the model specified\n",
        "tuning('rf')"
      ]
    },
    {
      "cell_type": "markdown",
      "metadata": {},
      "source": [
        "## Extreme Gradient boosting model (XGB)"
      ]
    },
    {
      "cell_type": "code",
      "execution_count": 156,
      "metadata": {},
      "outputs": [
        {
          "name": "stdout",
          "output_type": "stream",
          "text": [
            "Extreme gradient boosting model\n",
            "=========================================================================\n",
            "Fitting to the train set : 0.71\n",
            "=========================================================================\n",
            "Base model accuracy  : 0.668\n",
            "=========================================================================\n",
            "Classification report : \n",
            "              precision    recall  f1-score   support\n",
            "\n",
            "           1      0.714     0.807     0.758      1063\n",
            "           2      0.676     0.702     0.689      1054\n",
            "           3      0.593     0.490     0.536      1031\n",
            "\n",
            "    accuracy                          0.668      3148\n",
            "   macro avg      0.661     0.666     0.661      3148\n",
            "weighted avg      0.662     0.668     0.662      3148\n",
            "\n",
            "=========================================================================\n",
            "Confusion matrix : \n"
          ]
        },
        {
          "data": {
            "image/png": "[encoded data removed]",
            "text/plain": [
              "<Figure size 432x288 with 2 Axes>"
            ]
          },
          "metadata": {
            "needs_background": "light"
          },
          "output_type": "display_data"
        }
      ],
      "source": [
        "#  Perform XGB model\n",
        "model_xgb = model_accuracy('xgb')"
      ]
    },
    {
      "cell_type": "markdown",
      "metadata": {},
      "source": [
        "## kNN"
      ]
    },
    {
      "cell_type": "code",
      "execution_count": 132,
      "metadata": {},
      "outputs": [
        {
          "name": "stdout",
          "output_type": "stream",
          "text": [
            "K-Nearest Neighbors model\n",
            "Base model accuracy  : 0.590\n",
            "=========================================================================\n",
            "Classification report : \n",
            "              precision    recall  f1-score   support\n",
            "\n",
            "           1      0.603     0.736     0.663      1063\n",
            "           2      0.653     0.657     0.655      1054\n",
            "           3      0.485     0.372     0.421      1031\n",
            "\n",
            "    accuracy                          0.590      3148\n",
            "   macro avg      0.580     0.588     0.580      3148\n",
            "weighted avg      0.581     0.590     0.581      3148\n",
            "\n",
            "=========================================================================\n",
            "Confusion matrix : \n"
          ]
        },
        {
          "data": {
            "image/png": "[encoded data removed]",
            "text/plain": [
              "<Figure size 432x288 with 2 Axes>"
            ]
          },
          "metadata": {
            "needs_background": "light"
          },
          "output_type": "display_data"
        }
      ],
      "source": [
        "# Perform KNN\n",
        "model_knn = model_accuracy('knn')"
      ]
    },
    {
      "cell_type": "markdown",
      "metadata": {},
      "source": [
        "### Hyperparameters tuning for KNN"
      ]
    },
    {
      "cell_type": "code",
      "execution_count": 133,
      "metadata": {},
      "outputs": [],
      "source": [
        "# Define the grid of parameters\n",
        "param_grid = {\n",
        "    'n_neighbors': [5, 7, 10, 15]\n",
        "}\n",
        "# Instantiate the grid search model\n",
        "grid = GridSearchCV(estimator = model_knn, param_grid = param_grid, cv = 5, n_jobs=-1)\n",
        "# Fit the grid search to the data\n",
        "best_knn_grid = grid.fit(X_train, y_train)"
      ]
    },
    {
      "cell_type": "code",
      "execution_count": 134,
      "metadata": {},
      "outputs": [
        {
          "name": "stdout",
          "output_type": "stream",
          "text": [
            "KNN best parameters : {'n_neighbors': 15}\n",
            "==============================================================================\n",
            "KNN final model : KNeighborsClassifier(n_neighbors=15)\n",
            "==============================================================================\n",
            "Fitting to the train set : 0.67\n",
            "==============================================================================\n",
            "Final model Accuracy : 0.613\n",
            "==============================================================================\n",
            "Base model accuracy : 0.590\n",
            "==============================================================================\n",
            "Classification report : \n",
            "              precision    recall  f1-score   support\n",
            "\n",
            "           1      0.629     0.754     0.686      1063\n",
            "           2      0.654     0.706     0.679      1054\n",
            "           3      0.524     0.373     0.436      1031\n",
            "\n",
            "    accuracy                          0.613      3148\n",
            "   macro avg      0.602     0.611     0.600      3148\n",
            "weighted avg      0.603     0.613     0.602      3148\n",
            "\n",
            "==============================================================================\n",
            "Confusion matrix : \n"
          ]
        },
        {
          "data": {
            "image/png": "[encoded data removed]",
            "text/plain": [
              "<Figure size 432x288 with 2 Axes>"
            ]
          },
          "metadata": {
            "needs_background": "light"
          },
          "output_type": "display_data"
        }
      ],
      "source": [
        "tuning('knn')"
      ]
    },
    {
      "cell_type": "markdown",
      "metadata": {},
      "source": [
        "## Conclusion"
      ]
    },
    {
      "cell_type": "markdown",
      "metadata": {},
      "source": [
        "The 3 classes problem is better represented by the `Random Forest model with an accuracy of 67.4%`, `XGB with 66.6%` and `kNN with 61.3%`. Just like the 4 classes problem, the Random Forest model is proven more suitable to predict the target but the same problem persist, the ovefitting of the data to the train set. So in this case again the `XGB` model is more likely to predict on new data with a better accuracy."
      ]
    },
    {
      "cell_type": "markdown",
      "metadata": {},
      "source": [
        "# 6. Formulation 3 (binary problem)"
      ]
    },
    {
      "cell_type": "code",
      "execution_count": 135,
      "metadata": {},
      "outputs": [
        {
          "name": "stdout",
          "output_type": "stream",
          "text": [
            "Original dataset shape :  Counter({1: 129386, 2: 3497})\n",
            "Resample dataset shape :  Counter({1: 3497, 2: 3497})\n"
          ]
        }
      ],
      "source": [
        "# Undersampling \n",
        "X, y = underSamp(X2, y2)"
      ]
    },
    {
      "cell_type": "code",
      "execution_count": 136,
      "metadata": {},
      "outputs": [],
      "source": [
        "# Data separation in train and test sets\n",
        "X_train, X_test, y_train, y_test = splitting(X, y)"
      ]
    },
    {
      "cell_type": "markdown",
      "metadata": {},
      "source": [
        "## Random forest"
      ]
    },
    {
      "cell_type": "code",
      "execution_count": 137,
      "metadata": {},
      "outputs": [
        {
          "name": "stdout",
          "output_type": "stream",
          "text": [
            "Random forest model\n",
            "Base model accuracy  : 0.790\n",
            "Classification report : \n",
            "=========================================================================\n",
            "              precision    recall  f1-score   support\n",
            "\n",
            "           1      0.813     0.769     0.790      1078\n",
            "           2      0.769     0.813     0.790      1021\n",
            "\n",
            "    accuracy                          0.790      2099\n",
            "   macro avg      0.791     0.791     0.790      2099\n",
            "weighted avg      0.792     0.790     0.790      2099\n",
            "\n",
            "=========================================================================\n",
            "Confusion matrix : \n"
          ]
        },
        {
          "data": {
            "image/png": "[encoded data removed]",
            "text/plain": [
              "<Figure size 432x288 with 2 Axes>"
            ]
          },
          "metadata": {
            "needs_background": "light"
          },
          "output_type": "display_data"
        }
      ],
      "source": [
        "# Performing random forest model\n",
        "model_rf = model_accuracy('rf')"
      ]
    },
    {
      "cell_type": "markdown",
      "metadata": {},
      "source": [
        "### Hyperparameters tuning"
      ]
    },
    {
      "cell_type": "code",
      "execution_count": 138,
      "metadata": {},
      "outputs": [],
      "source": [
        "# Define the grid of parameters\n",
        "param_grid = {\n",
        "    'n_estimators': [100, 200,400, 500]\n",
        "}\n",
        "# Instantiate the grid search model\n",
        "grid = GridSearchCV(estimator = model_rf, param_grid = param_grid, cv = 5, n_jobs=-1)\n",
        "# Fit the grid search to the data\n",
        "best_rf_grid = grid.fit(X_train, y_train)"
      ]
    },
    {
      "cell_type": "code",
      "execution_count": 139,
      "metadata": {},
      "outputs": [
        {
          "name": "stdout",
          "output_type": "stream",
          "text": [
            "Ramdom Forest model best parameters : {'n_estimators': 200}\n",
            "==============================================================================\n",
            "Random forest final model : RandomForestClassifier(n_estimators=200, random_state=42)\n",
            "==============================================================================\n",
            "Fitting to the train set : 1.00\n",
            "==============================================================================\n",
            "Final model Accuracy : 0.790\n",
            "==============================================================================\n",
            "Base model accuracy : 0.790\n",
            "==============================================================================\n",
            "Classification report : \n",
            "              precision    recall  f1-score   support\n",
            "\n",
            "           1      0.816     0.764     0.789      1078\n",
            "           2      0.767     0.818     0.791      1021\n",
            "\n",
            "    accuracy                          0.790      2099\n",
            "   macro avg      0.791     0.791     0.790      2099\n",
            "weighted avg      0.792     0.790     0.790      2099\n",
            "\n",
            "==============================================================================\n",
            "Confusion matrix : \n"
          ]
        },
        {
          "data": {
            "image/png": "[encoded data removed]",
            "text/plain": [
              "<Figure size 432x288 with 2 Axes>"
            ]
          },
          "metadata": {
            "needs_background": "light"
          },
          "output_type": "display_data"
        }
      ],
      "source": [
        "# Perform a tuning of the model specified\n",
        "tuning('rf')"
      ]
    },
    {
      "cell_type": "markdown",
      "metadata": {},
      "source": [
        "## Extreme Gradient boosting model (XGB)"
      ]
    },
    {
      "cell_type": "code",
      "execution_count": 149,
      "metadata": {},
      "outputs": [
        {
          "name": "stdout",
          "output_type": "stream",
          "text": [
            "Extreme gradient boosting model\n",
            "=========================================================================\n",
            "Fitting to the train set : 0.82\n",
            "=========================================================================\n",
            "Base model accuracy  : 0.793\n",
            "=========================================================================\n",
            "Classification report : \n",
            "              precision    recall  f1-score   support\n",
            "\n",
            "           1      0.816     0.770     0.792      1078\n",
            "           2      0.771     0.817     0.793      1021\n",
            "\n",
            "    accuracy                          0.793      2099\n",
            "   macro avg      0.793     0.793     0.793      2099\n",
            "weighted avg      0.794     0.793     0.793      2099\n",
            "\n",
            "=========================================================================\n",
            "Confusion matrix : \n"
          ]
        },
        {
          "data": {
            "image/png": "[encoded data removed]",
            "text/plain": [
              "<Figure size 432x288 with 2 Axes>"
            ]
          },
          "metadata": {
            "needs_background": "light"
          },
          "output_type": "display_data"
        }
      ],
      "source": [
        "#  Perform XGB model\n",
        "model_xgb = model_accuracy('xgb')"
      ]
    },
    {
      "cell_type": "markdown",
      "metadata": {},
      "source": [
        "## KNN"
      ]
    },
    {
      "cell_type": "code",
      "execution_count": 142,
      "metadata": {},
      "outputs": [
        {
          "name": "stdout",
          "output_type": "stream",
          "text": [
            "K-Nearest Neighbors model\n",
            "Base model accuracy  : 0.762\n",
            "=========================================================================\n",
            "Classification report : \n",
            "              precision    recall  f1-score   support\n",
            "\n",
            "           1      0.791     0.729     0.759      1078\n",
            "           2      0.736     0.796     0.765      1021\n",
            "\n",
            "    accuracy                          0.762      2099\n",
            "   macro avg      0.763     0.763     0.762      2099\n",
            "weighted avg      0.764     0.762     0.762      2099\n",
            "\n",
            "=========================================================================\n",
            "Confusion matrix : \n"
          ]
        },
        {
          "data": {
            "image/png": "[encoded data removed]",
            "text/plain": [
              "<Figure size 432x288 with 2 Axes>"
            ]
          },
          "metadata": {
            "needs_background": "light"
          },
          "output_type": "display_data"
        }
      ],
      "source": [
        "# Perform KNN\n",
        "model_knn = model_accuracy('knn')"
      ]
    },
    {
      "cell_type": "markdown",
      "metadata": {},
      "source": [
        "### Hyperparameters tuning for KNN"
      ]
    },
    {
      "cell_type": "code",
      "execution_count": 143,
      "metadata": {},
      "outputs": [],
      "source": [
        "# Define the grid of parameters\n",
        "param_grid = {\n",
        "    'n_neighbors': [5, 7, 10, 15]\n",
        "}\n",
        "# Instantiate the grid search model\n",
        "grid = GridSearchCV(estimator = model_knn, param_grid = param_grid, cv = 5, n_jobs=-1)\n",
        "# Fit the grid search to the data\n",
        "best_knn_grid = grid.fit(X_train, y_train)"
      ]
    },
    {
      "cell_type": "code",
      "execution_count": 144,
      "metadata": {},
      "outputs": [
        {
          "name": "stdout",
          "output_type": "stream",
          "text": [
            "KNN best parameters : {'n_neighbors': 15}\n",
            "==============================================================================\n",
            "KNN final model : KNeighborsClassifier(n_neighbors=15)\n",
            "==============================================================================\n",
            "Fitting to the train set : 0.79\n",
            "==============================================================================\n",
            "Final model Accuracy : 0.770\n",
            "==============================================================================\n",
            "Base model accuracy : 0.762\n",
            "==============================================================================\n",
            "Classification report : \n",
            "              precision    recall  f1-score   support\n",
            "\n",
            "           1      0.810     0.722     0.763      1078\n",
            "           2      0.736     0.821     0.776      1021\n",
            "\n",
            "    accuracy                          0.770      2099\n",
            "   macro avg      0.773     0.771     0.770      2099\n",
            "weighted avg      0.774     0.770     0.770      2099\n",
            "\n",
            "==============================================================================\n",
            "Confusion matrix : \n"
          ]
        },
        {
          "data": {
            "image/png": "[encoded data removed]",
            "text/plain": [
              "<Figure size 432x288 with 2 Axes>"
            ]
          },
          "metadata": {
            "needs_background": "light"
          },
          "output_type": "display_data"
        }
      ],
      "source": [
        "tuning('knn')"
      ]
    },
    {
      "cell_type": "markdown",
      "metadata": {},
      "source": [
        "## Conclusion"
      ]
    },
    {
      "cell_type": "markdown",
      "metadata": {},
      "source": [
        "We foud that the binary solution is slightly better modeled by the `XGB with an accuracy of 79,3%`. After that comes the `Random Forest model with 79%` of accuracy and `kNN with 77%`. In this case, there are overfitting with the Random Forest model but we found out that the `XGB` solution perform better."
      ]
    },
    {
      "cell_type": "markdown",
      "metadata": {},
      "source": [
        "# 7. Findings"
      ]
    },
    {
      "cell_type": "markdown",
      "metadata": {},
      "source": [
        "After all the solution implemented we found out that the `Extreme Gradient Boosting` model perform better in all of the formulations. The Random Forest classifier seem at first tried to do a good job but the overfitting problem was undermining the confidence we placed in the predictions. We tried to provide some solutions by using cross validation but it didn't solve the problem."
      ]
    }
  ],
  "metadata": {
    "colab": {
      "collapsed_sections": [
        "H8mruz6X0jBf",
        "e_4BOD790jBf",
        "taMcIFA00jBg",
        "eRBdtTew0jBg",
        "fnbHJNDi0jBi",
        "xlqfpWhR0jBi"
      ],
      "name": "Copy of Final_project_colab.ipynb",
      "provenance": []
    },
    "interpreter": {
      "hash": "a94f09328fd3e2fe90580e1b0af4127392053aec22d41566fb9ed67e92f0e9f0"
    },
    "kernelspec": {
      "display_name": "Python 3",
      "language": "python",
      "name": "python3"
    },
    "language_info": {
      "codemirror_mode": {
        "name": "ipython",
        "version": 3
      },
      "file_extension": ".py",
      "mimetype": "text/x-python",
      "name": "python",
      "nbconvert_exporter": "python",
      "pygments_lexer": "ipython3",
      "version": "3.8.8"
    }
  },
  "nbformat": 4,
  "nbformat_minor": 0
}
