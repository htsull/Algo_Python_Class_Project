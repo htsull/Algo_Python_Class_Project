{
 "cells": [
  {
   "cell_type": "markdown",
   "metadata": {},
   "source": [
    "* ## **Import tools and primary data**"
   ]
  },
  {
   "cell_type": "code",
   "execution_count": 222,
   "metadata": {},
   "outputs": [],
   "source": [
    "import pandas as pd\n",
    "df1 = pd.read_csv(\"usagers.csv\")\n",
    "df2 = pd.read_csv(\"vehicules.csv\")\n",
    "df3 = pd.read_csv(\"caract.csv\")\n",
    "df4 = pd.read_csv(\"lieux.csv\")"
   ]
  },
  {
   "cell_type": "markdown",
   "metadata": {},
   "source": [
    "* ## **Merge original data**"
   ]
  },
  {
   "cell_type": "code",
   "execution_count": 223,
   "metadata": {},
   "outputs": [
    {
     "data": {
      "text/plain": [
       "Index(['Num_Acc', 'id_vehicule', 'num_veh', 'place', 'catu', 'grav', 'sexe',\n",
       "       'an_nais', 'trajet', 'secu1', 'secu2', 'secu3', 'locp', 'actp', 'etatp',\n",
       "       'senc', 'catv', 'obs', 'obsm', 'choc', 'manv', 'motor', 'occutc',\n",
       "       'jour', 'mois', 'an', 'hrmn', 'lum', 'dep', 'com', 'agg', 'int', 'atm',\n",
       "       'col', 'adr', 'lat', 'long', 'catr', 'voie', 'v1', 'v2', 'circ', 'nbv',\n",
       "       'vosp', 'prof', 'pr', 'pr1', 'plan', 'lartpc', 'larrout', 'surf',\n",
       "       'infra', 'situ', 'vma'],\n",
       "      dtype='object')"
      ]
     },
     "execution_count": 223,
     "metadata": {},
     "output_type": "execute_result"
    }
   ],
   "source": [
    "data = df1.merge(df2, on = ['id_vehicule', 'Num_Acc', 'num_veh'])\n",
    "data = data.merge(df3, on = 'Num_Acc')\n",
    "data = data.merge(df4, on = 'Num_Acc')\n",
    "data.columns"
   ]
  },
  {
   "cell_type": "markdown",
   "metadata": {},
   "source": [
    "* ## **Missing values handling**"
   ]
  },
  {
   "cell_type": "markdown",
   "metadata": {},
   "source": [
    "+ ### Dropping variables"
   ]
  },
  {
   "cell_type": "code",
   "execution_count": 224,
   "metadata": {},
   "outputs": [
    {
     "data": {
      "text/plain": [
       "long       100.000000\n",
       "lartpc      99.648811\n",
       "larrout     99.375080\n",
       "occutc      98.587726\n",
       "v2          92.673921\n",
       "dtype: float64"
      ]
     },
     "execution_count": 224,
     "metadata": {},
     "output_type": "execute_result"
    }
   ],
   "source": [
    "# count nan values\n",
    "nan_values = data.isna().sum()\n",
    "# percentage of nan values ay column\n",
    "nan_values = nan_values.sort_values(ascending=False) *100 / data.shape[0]\n",
    "# columns with nan values greater than 20%\n",
    "nan_values = nan_values.loc[nan_values > 20]\n",
    "nan_values"
   ]
  },
  {
   "cell_type": "code",
   "execution_count": 225,
   "metadata": {},
   "outputs": [
    {
     "data": {
      "text/plain": [
       "(Index(['Num_Acc', 'id_vehicule', 'num_veh', 'place', 'catu', 'grav', 'sexe',\n",
       "        'an_nais', 'trajet', 'secu1', 'secu2', 'secu3', 'locp', 'actp', 'etatp',\n",
       "        'senc', 'catv', 'obs', 'obsm', 'choc', 'manv', 'motor', 'jour', 'mois',\n",
       "        'an', 'hrmn', 'lum', 'dep', 'com', 'agg', 'int', 'atm', 'col', 'adr',\n",
       "        'catr', 'voie', 'v1', 'circ', 'nbv', 'vosp', 'prof', 'pr', 'pr1',\n",
       "        'plan', 'surf', 'infra', 'situ', 'vma'],\n",
       "       dtype='object'),\n",
       " (132977, 48))"
      ]
     },
     "execution_count": 225,
     "metadata": {},
     "output_type": "execute_result"
    }
   ],
   "source": [
    "# Copy of original data\n",
    "df = data.copy()\n",
    "# Drop nan_values criteria columns\n",
    "df = df.drop(nan_values.to_dict().keys(), axis=1)\n",
    "# Drop other column not concerned by the process\n",
    "df = df.drop('lat', axis=1)\n",
    "df.columns, df.shape"
   ]
  },
  {
   "cell_type": "markdown",
   "metadata": {},
   "source": [
    "* ### Dropping rows"
   ]
  },
  {
   "cell_type": "code",
   "execution_count": 226,
   "metadata": {},
   "outputs": [
    {
     "data": {
      "text/plain": [
       "(104994, 48)"
      ]
     },
     "execution_count": 226,
     "metadata": {},
     "output_type": "execute_result"
    }
   ],
   "source": [
    "# Drop rows with any cells with nan values\n",
    "df = df.dropna(axis=0, how='any')\n",
    "df.shape"
   ]
  },
  {
   "cell_type": "markdown",
   "metadata": {},
   "source": [
    "==============================================================================="
   ]
  },
  {
   "cell_type": "code",
   "execution_count": 227,
   "metadata": {},
   "outputs": [
    {
     "name": "stdout",
     "output_type": "stream",
     "text": [
      "Dimension de df (104994, 49)\n"
     ]
    }
   ],
   "source": [
    "import datetime\n",
    "# Create age variable from birth year 'an_nais'\n",
    "df['age'] = datetime.date.today().year - df.an_nais\n",
    "print('Dimension de df', df.shape)"
   ]
  },
  {
   "cell_type": "code",
   "execution_count": 1,
   "metadata": {},
   "outputs": [
    {
     "ename": "NameError",
     "evalue": "name 'df' is not defined",
     "output_type": "error",
     "traceback": [
      "\u001b[1;31m---------------------------------------------------------------------------\u001b[0m",
      "\u001b[1;31mNameError\u001b[0m                                 Traceback (most recent call last)",
      "\u001b[1;32m<ipython-input-1-490dc7cba104>\u001b[0m in \u001b[0;36m<module>\u001b[1;34m\u001b[0m\n\u001b[0;32m      1\u001b[0m \u001b[1;31m# convert sexe as categorical\u001b[0m\u001b[1;33m\u001b[0m\u001b[1;33m\u001b[0m\u001b[1;33m\u001b[0m\u001b[0m\n\u001b[1;32m----> 2\u001b[1;33m \u001b[0mdf\u001b[0m\u001b[1;33m.\u001b[0m\u001b[0msexe\u001b[0m \u001b[1;33m=\u001b[0m \u001b[0mdf\u001b[0m\u001b[1;33m.\u001b[0m\u001b[0msexe\u001b[0m\u001b[1;33m.\u001b[0m\u001b[0mastype\u001b[0m\u001b[1;33m(\u001b[0m\u001b[1;34m'category'\u001b[0m\u001b[1;33m)\u001b[0m\u001b[1;33m\u001b[0m\u001b[1;33m\u001b[0m\u001b[0m\n\u001b[0m\u001b[0;32m      3\u001b[0m \u001b[0mdf\u001b[0m\u001b[1;33m.\u001b[0m\u001b[0msexe\u001b[0m\u001b[1;33m.\u001b[0m\u001b[0mdtypes\u001b[0m\u001b[1;33m\u001b[0m\u001b[1;33m\u001b[0m\u001b[0m\n",
      "\u001b[1;31mNameError\u001b[0m: name 'df' is not defined"
     ]
    }
   ],
   "source": [
    "# convert sexe as categorical\n",
    "df.sexe = df.sexe.astype('category')\n",
    "df.sexe.dtypes"
   ]
  },
  {
   "cell_type": "code",
   "execution_count": 229,
   "metadata": {},
   "outputs": [
    {
     "data": {
      "text/plain": [
       "Index(['Num_Acc', 'id_vehicule', 'num_veh', 'place', 'catu', 'grav', 'sexe',\n",
       "       'an_nais', 'trajet', 'secu1', 'secu2', 'secu3', 'locp', 'actp', 'etatp',\n",
       "       'senc', 'catv', 'obs', 'obsm', 'choc', 'manv', 'motor', 'jour', 'mois',\n",
       "       'an', 'hrmn', 'lum', 'dep', 'com', 'agg', 'int', 'atm', 'col', 'adr',\n",
       "       'catr', 'voie', 'v1', 'circ', 'nbv', 'vosp', 'prof', 'pr', 'pr1',\n",
       "       'plan', 'surf', 'infra', 'situ', 'vma', 'age'],\n",
       "      dtype='object')"
      ]
     },
     "execution_count": 229,
     "metadata": {},
     "output_type": "execute_result"
    }
   ],
   "source": [
    "df.columns"
   ]
  },
  {
   "cell_type": "code",
   "execution_count": 2,
   "metadata": {},
   "outputs": [
    {
     "ename": "NameError",
     "evalue": "name 'df' is not defined",
     "output_type": "error",
     "traceback": [
      "\u001b[1;31m---------------------------------------------------------------------------\u001b[0m",
      "\u001b[1;31mNameError\u001b[0m                                 Traceback (most recent call last)",
      "\u001b[1;32m<ipython-input-2-4ac365e90132>\u001b[0m in \u001b[0;36m<module>\u001b[1;34m\u001b[0m\n\u001b[0;32m      1\u001b[0m \u001b[1;31m# Correlation matrix\u001b[0m\u001b[1;33m\u001b[0m\u001b[1;33m\u001b[0m\u001b[1;33m\u001b[0m\u001b[0m\n\u001b[1;32m----> 2\u001b[1;33m \u001b[0mdf\u001b[0m\u001b[1;33m.\u001b[0m\u001b[0mcorr\u001b[0m\u001b[1;33m(\u001b[0m\u001b[1;33m)\u001b[0m\u001b[1;33m\u001b[0m\u001b[1;33m\u001b[0m\u001b[0m\n\u001b[0m",
      "\u001b[1;31mNameError\u001b[0m: name 'df' is not defined"
     ]
    }
   ],
   "source": [
    "# Correlation matrix\n",
    "df.corr()"
   ]
  },
  {
   "cell_type": "code",
   "execution_count": 3,
   "metadata": {},
   "outputs": [
    {
     "ename": "NameError",
     "evalue": "name 'df' is not defined",
     "output_type": "error",
     "traceback": [
      "\u001b[1;31m---------------------------------------------------------------------------\u001b[0m",
      "\u001b[1;31mNameError\u001b[0m                                 Traceback (most recent call last)",
      "\u001b[1;32m<ipython-input-3-af97103a7d9a>\u001b[0m in \u001b[0;36m<module>\u001b[1;34m\u001b[0m\n\u001b[0;32m      1\u001b[0m \u001b[1;31m# variance\u001b[0m\u001b[1;33m\u001b[0m\u001b[1;33m\u001b[0m\u001b[1;33m\u001b[0m\u001b[0m\n\u001b[1;32m----> 2\u001b[1;33m \u001b[0mdf\u001b[0m\u001b[1;33m.\u001b[0m\u001b[0mvar\u001b[0m\u001b[1;33m(\u001b[0m\u001b[1;33m)\u001b[0m\u001b[1;33m.\u001b[0m\u001b[0msort_values\u001b[0m\u001b[1;33m(\u001b[0m\u001b[1;33m)\u001b[0m\u001b[1;33m.\u001b[0m\u001b[0mhead\u001b[0m\u001b[1;33m(\u001b[0m\u001b[1;33m)\u001b[0m\u001b[1;33m\u001b[0m\u001b[1;33m\u001b[0m\u001b[0m\n\u001b[0m",
      "\u001b[1;31mNameError\u001b[0m: name 'df' is not defined"
     ]
    }
   ],
   "source": [
    "# variance \n",
    "df.var().sort_values().head()"
   ]
  },
  {
   "cell_type": "code",
   "execution_count": 232,
   "metadata": {},
   "outputs": [],
   "source": [
    "# dropping `an` variable\n",
    "df = df.drop('an', axis=1)"
   ]
  },
  {
   "cell_type": "code",
   "execution_count": 259,
   "metadata": {},
   "outputs": [],
   "source": [
    "# features selection for model\n",
    "y = df['grav']\n",
    "\n",
    "features = ['catu','sexe','trajet',\n",
    "            'catv','an_nais','mois',\n",
    "            'obs','obsm','choc','manv',\n",
    "            'lum','agg','int','atm','col',\n",
    "            'catr','circ','vosp','prof','plan',\n",
    "            'surf','infra','situ']"
   ]
  },
  {
   "cell_type": "code",
   "execution_count": 281,
   "metadata": {},
   "outputs": [],
   "source": [
    "import numpy as np\n",
    "from sklearn.model_selection import train_test_split\n",
    "from sklearn.ensemble import RandomForestClassifier\n",
    "from sklearn.ensemble import GradientBoostingClassifier\n",
    "from sklearn.preprocessing import normalize\n",
    "from sklearn.metrics import accuracy_score"
   ]
  },
  {
   "cell_type": "code",
   "execution_count": 266,
   "metadata": {},
   "outputs": [],
   "source": [
    "# hot encoding of the features\n",
    "X_data = pd.get_dummies(df[features].astype(str))"
   ]
  },
  {
   "cell_type": "code",
   "execution_count": 269,
   "metadata": {},
   "outputs": [],
   "source": [
    "# On commence par normaliser les données :\n",
    "\n",
    "X_N_data = normalize(X_data.values)"
   ]
  },
  {
   "cell_type": "code",
   "execution_count": 283,
   "metadata": {},
   "outputs": [
    {
     "name": "stdout",
     "output_type": "stream",
     "text": [
      "0.9986919804432027\n",
      "0.6925978132500286\n"
     ]
    }
   ],
   "source": [
    "# On divise la base en bases d'entraînements et de test :\n",
    "\n",
    "X_train_rf, X_test_rf, y_train_rf, y_test_rf = train_test_split(X_N_data, y)\n",
    "# On construit le modèle :\n",
    "\n",
    "model_rf = RandomForestClassifier(n_estimators=100)\n",
    "# L'entrînement commence :\n",
    "\n",
    "model_rf.fit(X_train_rf, y_train_rf)\n",
    "# On a maintenant les prédictions pour la base de test\n",
    "\n",
    "predictions_test = model_rf.predict(X_test_rf)\n",
    "# On calcul de même les prédictions pour la base train\n",
    "\n",
    "predictions_train = model_rf.predict(X_train_rf)\n",
    "# Les résultats sont calculés de cette manière :\n",
    "\n",
    "train_acc = accuracy_score(y_train_rf, predictions_train)\n",
    "print(train_acc)\n",
    "\n",
    "test_acc = accuracy_score(y_test_rf, predictions_test)\n",
    "print(test_acc)"
   ]
  },
  {
   "cell_type": "code",
   "execution_count": 282,
   "metadata": {},
   "outputs": [
    {
     "name": "stdout",
     "output_type": "stream",
     "text": [
      "0.7263572290304147\n",
      "0.6864261495676026\n"
     ]
    }
   ],
   "source": [
    "# On redécoupe la base en train/test\n",
    "\n",
    "X_train_xgb, X_test_xgb, y_train_xgb, y_test_xgb = train_test_split(X_N_data, y)\n",
    "\n",
    "\n",
    "# On crée le modèle :\n",
    "\n",
    "model_boosting = GradientBoostingClassifier(loss=\"deviance\",\n",
    "    learning_rate=0.2,\n",
    "    max_depth=5,\n",
    "    max_features=\"sqrt\",\n",
    "    subsample=0.95,\n",
    "    n_estimators=200)\n",
    "\n",
    "\n",
    "model_boosting.fit(X_train_xgb, y_train_xgb)\n",
    "\n",
    "# On calcul les prédictions\n",
    "predictions_test_xgb = model_boosting.predict(X_test_xgb)\n",
    "predictions_train_xgb = model_boosting.predict(X_train_xgb)\n",
    "\n",
    "# On affiche les résultats :\n",
    "\n",
    "train_acc = accuracy_score(y_train_xgb, predictions_train_xgb)\n",
    "print(train_acc)\n",
    "\n",
    "test_acc = accuracy_score(y_test_xgb, predictions_test_xgb)\n",
    "print(test_acc)"
   ]
  },
  {
   "cell_type": "code",
   "execution_count": null,
   "metadata": {},
   "outputs": [],
   "source": []
  },
  {
   "cell_type": "markdown",
   "metadata": {},
   "source": [
    "\n",
    "# - verification de la disproportion entre ls modalites des variables"
   ]
  },
  {
   "cell_type": "code",
   "execution_count": null,
   "metadata": {},
   "outputs": [],
   "source": [
    "df['sexe'].value_counts(sort=False) *100 / df.shape[0]"
   ]
  },
  {
   "cell_type": "code",
   "execution_count": 233,
   "metadata": {},
   "outputs": [
    {
     "data": {
      "text/plain": [
       "1    42.647199\n",
       "2     1.857249\n",
       "3    12.144503\n",
       "4    43.351049\n",
       "Name: grav, dtype: float64"
      ]
     },
     "execution_count": 233,
     "metadata": {},
     "output_type": "execute_result"
    }
   ],
   "source": [
    "df['grav'].value_counts(sort=False) *100 / df.shape[0]"
   ]
  },
  {
   "cell_type": "code",
   "execution_count": 235,
   "metadata": {},
   "outputs": [
    {
     "data": {
      "text/plain": [
       "1    66.321885\n",
       "2     5.947959\n",
       "3     8.671924\n",
       "4     0.967674\n",
       "5    18.090558\n",
       "Name: lum, dtype: float64"
      ]
     },
     "execution_count": 235,
     "metadata": {},
     "output_type": "execute_result"
    }
   ],
   "source": [
    "df['lum'].value_counts(sort=False) *100 / df.shape[0]"
   ]
  },
  {
   "cell_type": "code",
   "execution_count": 236,
   "metadata": {},
   "outputs": [
    {
     "data": {
      "text/plain": [
       "1    30.997009\n",
       "2    69.002991\n",
       "Name: agg, dtype: float64"
      ]
     },
     "execution_count": 236,
     "metadata": {},
     "output_type": "execute_result"
    }
   ],
   "source": [
    "df['agg'].value_counts(sort=False) *100 / df.shape[0]"
   ]
  },
  {
   "cell_type": "code",
   "execution_count": 237,
   "metadata": {},
   "outputs": [
    {
     "data": {
      "text/plain": [
       "1    63.621731\n",
       "2    13.322666\n",
       "3    10.762520\n",
       "4     2.270606\n",
       "5     0.599082\n",
       "6     3.387813\n",
       "7     1.288645\n",
       "8     0.079052\n",
       "9     4.667886\n",
       "Name: int, dtype: float64"
      ]
     },
     "execution_count": 237,
     "metadata": {},
     "output_type": "execute_result"
    }
   ],
   "source": [
    "df['int'].value_counts(sort=False) *100 / df.shape[0]"
   ]
  },
  {
   "cell_type": "code",
   "execution_count": 238,
   "metadata": {},
   "outputs": [
    {
     "data": {
      "text/plain": [
       "1    79.529306\n",
       "2    11.444463\n",
       "3     2.286797\n",
       "4     0.364783\n",
       "5     0.440978\n",
       "6     0.239061\n",
       "7     1.470560\n",
       "8     3.784026\n",
       "9     0.440025\n",
       "Name: atm, dtype: float64"
      ]
     },
     "execution_count": 238,
     "metadata": {},
     "output_type": "execute_result"
    }
   ],
   "source": [
    "df['atm'].value_counts(sort=False) *100 / df.shape[0]"
   ]
  },
  {
   "cell_type": "code",
   "execution_count": 240,
   "metadata": {},
   "outputs": [
    {
     "data": {
      "text/plain": [
       "3    31.860868\n",
       "6    26.156733\n",
       "2    14.487495\n",
       "1     8.251900\n",
       "4     7.870926\n",
       "5     5.796522\n",
       "7     5.575557\n",
       "Name: col, dtype: float64"
      ]
     },
     "execution_count": 240,
     "metadata": {},
     "output_type": "execute_result"
    }
   ],
   "source": [
    "df['col'].value_counts(sort=True) *100 / df.shape[0]"
   ]
  },
  {
   "cell_type": "code",
   "execution_count": 242,
   "metadata": {},
   "outputs": [
    {
     "data": {
      "text/plain": [
       "1    12.580719\n",
       "2     6.937539\n",
       "3    29.851230\n",
       "4    46.650285\n",
       "5     0.107625\n",
       "6     0.600987\n",
       "7     2.526811\n",
       "9     0.744804\n",
       "Name: catr, dtype: float64"
      ]
     },
     "execution_count": 242,
     "metadata": {},
     "output_type": "execute_result"
    }
   ],
   "source": [
    "df['catr'].value_counts(sort=False) *100 / df.shape[0]"
   ]
  },
  {
   "cell_type": "code",
   "execution_count": 250,
   "metadata": {},
   "outputs": [
    {
     "data": {
      "text/plain": [
       " 4.0     0.706707\n",
       " 3.0    17.488618\n",
       " 1.0    20.433549\n",
       "-1.0     5.439358\n",
       " 2.0    55.931768\n",
       "Name: circ, dtype: float64"
      ]
     },
     "execution_count": 250,
     "metadata": {},
     "output_type": "execute_result"
    }
   ],
   "source": [
    "# -1 problem\n",
    "\n",
    "df['circ'].value_counts(sort=False) *100 / df.shape[0]"
   ]
  },
  {
   "cell_type": "code",
   "execution_count": 246,
   "metadata": {},
   "outputs": [
    {
     "data": {
      "text/plain": [
       " 4.0     0.027621\n",
       " 8.0     0.140960\n",
       " 3.0     0.178105\n",
       " 1.0    80.311256\n",
       "-1.0     0.002857\n",
       " 7.0     0.238109\n",
       " 2.0    18.652494\n",
       " 5.0     0.121912\n",
       " 9.0     0.312399\n",
       " 6.0     0.014287\n",
       "Name: surf, dtype: float64"
      ]
     },
     "execution_count": 246,
     "metadata": {},
     "output_type": "execute_result"
    }
   ],
   "source": [
    "df['surf'].value_counts(sort=False) *100 / df.shape[0]"
   ]
  },
  {
   "cell_type": "code",
   "execution_count": 247,
   "metadata": {},
   "outputs": [
    {
     "data": {
      "text/plain": [
       " 0.0    82.479951\n",
       " 4.0     0.445740\n",
       " 8.0     0.921957\n",
       " 3.0     1.592472\n",
       " 1.0     1.644856\n",
       "-1.0     0.070480\n",
       " 7.0     0.052384\n",
       " 2.0     2.152504\n",
       " 5.0     5.860335\n",
       " 9.0     3.884031\n",
       " 6.0     0.895289\n",
       "Name: infra, dtype: float64"
      ]
     },
     "execution_count": 247,
     "metadata": {},
     "output_type": "execute_result"
    }
   ],
   "source": [
    "df['infra'].value_counts(sort=False) *100 / df.shape[0]"
   ]
  },
  {
   "cell_type": "code",
   "execution_count": 253,
   "metadata": {},
   "outputs": [
    {
     "data": {
      "text/plain": [
       "0      0.190487\n",
       "1      4.005943\n",
       "2      2.729680\n",
       "3      0.985771\n",
       "7     63.239804\n",
       "10     7.055641\n",
       "13     0.348591\n",
       "14     0.656228\n",
       "15     0.690516\n",
       "16     0.030478\n",
       "80     0.197154\n",
       "17     0.561937\n",
       "20     0.202869\n",
       "21     0.120007\n",
       "30     3.277330\n",
       "31     1.663905\n",
       "32     2.478237\n",
       "33     6.724194\n",
       "34     1.374364\n",
       "35     0.009524\n",
       "99     0.399070\n",
       "36     0.069528\n",
       "37     1.169591\n",
       "38     0.279064\n",
       "39     0.027621\n",
       "40     0.177153\n",
       "41     0.010477\n",
       "42     0.036193\n",
       "43     0.509553\n",
       "50     0.658133\n",
       "60     0.120959\n",
       "Name: catv, dtype: float64"
      ]
     },
     "execution_count": 253,
     "metadata": {},
     "output_type": "execute_result"
    }
   ],
   "source": [
    "df['catv'].value_counts(sort=False) *100 / df.shape[0]"
   ]
  },
  {
   "cell_type": "markdown",
   "metadata": {},
   "source": [
    "\n",
    "\n"
   ]
  },
  {
   "cell_type": "markdown",
   "metadata": {},
   "source": [
    "# Questions\n",
    "## 1. Comment les modalites avec les petites representations vont affecter le modele?\n",
    "## 2. Quels sont les algos de classifications qu'on peut encore essayer pour ameliorer?\n",
    "## 3. Prisen en comptes des suggestions se l'article, comment s'y prendre? (https://larevueia.fr/xgboost-vs-random-forest-predire-la-gravite-dun-accident-de-la-route/)\n",
    "## 4. Suggestions?"
   ]
  }
 ],
 "metadata": {
  "interpreter": {
   "hash": "a94f09328fd3e2fe90580e1b0af4127392053aec22d41566fb9ed67e92f0e9f0"
  },
  "kernelspec": {
   "display_name": "Python 3.8.8 64-bit ('base': conda)",
   "name": "python3"
  },
  "language_info": {
   "codemirror_mode": {
    "name": "ipython",
    "version": 3
   },
   "file_extension": ".py",
   "mimetype": "text/x-python",
   "name": "python",
   "nbconvert_exporter": "python",
   "pygments_lexer": "ipython3",
   "version": "3.8.8"
  },
  "orig_nbformat": 4
 },
 "nbformat": 4,
 "nbformat_minor": 2
}
